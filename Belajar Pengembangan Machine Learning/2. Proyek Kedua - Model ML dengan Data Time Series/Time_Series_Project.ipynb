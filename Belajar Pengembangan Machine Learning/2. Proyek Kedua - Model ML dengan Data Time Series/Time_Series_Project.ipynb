{
  "cells": [
    {
      "cell_type": "markdown",
      "source": [
        "#Time Series model with LSTM\n",
        "\n",
        "In this project, I'll build a Machine Learning model for Time Series data using LSTM (Long Short-Term Memory)"
      ],
      "metadata": {
        "id": "PU1I47T6JzOE"
      }
    },
    {
      "cell_type": "markdown",
      "source": [
        "##1. Download Dataset from Kaggle API\n",
        "\n",
        "The dataset for this project is the Jena Climate dataset from Kaggle\n",
        "\n",
        "Jena Climate is a weather time series dataset recorded at the Weather Station of the Max Planck Institute for Biogeochemistry in Jena, Germany. The dataset is made up of 14 different quantities (such as air temperature, atmospheric pressure, humidity, wind direction, and so on) that were recorded every 10 minutes, over several years. This dataset covers data from January 1st 2009 to December 31st 2016."
      ],
      "metadata": {
        "id": "SrQcD3VjKI_A"
      }
    },
    {
      "cell_type": "code",
      "execution_count": null,
      "metadata": {
        "id": "GykdPQb3su5W",
        "colab": {
          "base_uri": "https://localhost:8080/"
        },
        "outputId": "a8953075-ce5c-4121-d7a3-0b752dc8371c"
      },
      "outputs": [
        {
          "output_type": "stream",
          "name": "stdout",
          "text": [
            "Mounted at /content/drive\n"
          ]
        }
      ],
      "source": [
        "from google.colab import drive\n",
        "drive.mount('/content/drive')"
      ]
    },
    {
      "cell_type": "code",
      "execution_count": null,
      "metadata": {
        "id": "2rT3k3ffs9aH"
      },
      "outputs": [],
      "source": [
        "import os\n",
        "os.environ['KAGGLE_CONFIG_DIR'] = '/content/drive/MyDrive/kaggle'"
      ]
    },
    {
      "cell_type": "code",
      "execution_count": null,
      "metadata": {
        "colab": {
          "base_uri": "https://localhost:8080/"
        },
        "id": "Q6QBkjNBtC4i",
        "outputId": "6a8df46d-383b-403b-c34d-b42bec0d394d"
      },
      "outputs": [
        {
          "output_type": "stream",
          "name": "stdout",
          "text": [
            "Downloading jena-climate.zip to /content\n",
            "\r  0% 0.00/13.2M [00:00<?, ?B/s]\r 68% 9.00M/13.2M [00:00<00:00, 69.4MB/s]\n",
            "\r100% 13.2M/13.2M [00:00<00:00, 86.3MB/s]\n"
          ]
        }
      ],
      "source": [
        "!kaggle datasets download -d mnassrib/jena-climate"
      ]
    },
    {
      "cell_type": "markdown",
      "source": [
        "Extract jena-climate.zip from Kaggle and save the extracted file to Drive."
      ],
      "metadata": {
        "id": "WXsAm_h1krC6"
      }
    },
    {
      "cell_type": "code",
      "execution_count": null,
      "metadata": {
        "id": "fCVt6qyrtO0e"
      },
      "outputs": [],
      "source": [
        "import zipfile\n",
        "\n",
        "# Define the path to your zip file\n",
        "file_path = '/content/jena-climate.zip'  # Replace 'your_file.zip' with your file's name\n",
        "\n",
        "# Unzip the file to a specific destination\n",
        "with zipfile.ZipFile(file_path, 'r') as zip_ref:\n",
        "    zip_ref.extractall('/content/drive/MyDrive/kaggle')  # Replace 'destination_folder' with your desired folder"
      ]
    },
    {
      "cell_type": "markdown",
      "source": [
        "Load the Dataset into the Dataframe and inspect information about the Dataset"
      ],
      "metadata": {
        "id": "uzlOKA6Tk73d"
      }
    },
    {
      "cell_type": "code",
      "execution_count": null,
      "metadata": {
        "id": "ju5DAbxhNMoE"
      },
      "outputs": [],
      "source": [
        "import pandas as pd"
      ]
    },
    {
      "cell_type": "code",
      "execution_count": null,
      "metadata": {
        "colab": {
          "base_uri": "https://localhost:8080/"
        },
        "id": "jCf8f6y6NXT7",
        "outputId": "cf9612bb-766d-4a31-9be4-0f015b1c094b"
      },
      "outputs": [
        {
          "output_type": "stream",
          "name": "stdout",
          "text": [
            "<class 'pandas.core.frame.DataFrame'>\n",
            "RangeIndex: 420551 entries, 0 to 420550\n",
            "Data columns (total 15 columns):\n",
            " #   Column           Non-Null Count   Dtype  \n",
            "---  ------           --------------   -----  \n",
            " 0   Date Time        420551 non-null  object \n",
            " 1   p (mbar)         420551 non-null  float64\n",
            " 2   T (degC)         420551 non-null  float64\n",
            " 3   Tpot (K)         420551 non-null  float64\n",
            " 4   Tdew (degC)      420551 non-null  float64\n",
            " 5   rh (%)           420551 non-null  float64\n",
            " 6   VPmax (mbar)     420551 non-null  float64\n",
            " 7   VPact (mbar)     420551 non-null  float64\n",
            " 8   VPdef (mbar)     420551 non-null  float64\n",
            " 9   sh (g/kg)        420551 non-null  float64\n",
            " 10  H2OC (mmol/mol)  420551 non-null  float64\n",
            " 11  rho (g/m**3)     420551 non-null  float64\n",
            " 12  wv (m/s)         420551 non-null  float64\n",
            " 13  max. wv (m/s)    420551 non-null  float64\n",
            " 14  wd (deg)         420551 non-null  float64\n",
            "dtypes: float64(14), object(1)\n",
            "memory usage: 48.1+ MB\n"
          ]
        }
      ],
      "source": [
        "df = pd.read_csv('/content/drive/MyDrive/kaggle/jena_climate_2009_2016.csv')\n",
        "df.info()"
      ]
    },
    {
      "cell_type": "code",
      "source": [
        "df.head()\n"
      ],
      "metadata": {
        "colab": {
          "base_uri": "https://localhost:8080/",
          "height": 310
        },
        "id": "337-B_sIoPJZ",
        "outputId": "ed05e848-be6a-42cb-a116-7d9aa627c1c0"
      },
      "execution_count": null,
      "outputs": [
        {
          "output_type": "execute_result",
          "data": {
            "text/plain": [
              "             Date Time  p (mbar)  T (degC)  Tpot (K)  Tdew (degC)  rh (%)  \\\n",
              "0  01.01.2009 00:10:00    996.52     -8.02    265.40        -8.90    93.3   \n",
              "1  01.01.2009 00:20:00    996.57     -8.41    265.01        -9.28    93.4   \n",
              "2  01.01.2009 00:30:00    996.53     -8.51    264.91        -9.31    93.9   \n",
              "3  01.01.2009 00:40:00    996.51     -8.31    265.12        -9.07    94.2   \n",
              "4  01.01.2009 00:50:00    996.51     -8.27    265.15        -9.04    94.1   \n",
              "\n",
              "   VPmax (mbar)  VPact (mbar)  VPdef (mbar)  sh (g/kg)  H2OC (mmol/mol)  \\\n",
              "0          3.33          3.11          0.22       1.94             3.12   \n",
              "1          3.23          3.02          0.21       1.89             3.03   \n",
              "2          3.21          3.01          0.20       1.88             3.02   \n",
              "3          3.26          3.07          0.19       1.92             3.08   \n",
              "4          3.27          3.08          0.19       1.92             3.09   \n",
              "\n",
              "   rho (g/m**3)  wv (m/s)  max. wv (m/s)  wd (deg)  \n",
              "0       1307.75      1.03           1.75     152.3  \n",
              "1       1309.80      0.72           1.50     136.1  \n",
              "2       1310.24      0.19           0.63     171.6  \n",
              "3       1309.19      0.34           0.50     198.0  \n",
              "4       1309.00      0.32           0.63     214.3  "
            ],
            "text/html": [
              "\n",
              "  <div id=\"df-60c5db7a-d0c2-42da-b857-648748d0d85d\" class=\"colab-df-container\">\n",
              "    <div>\n",
              "<style scoped>\n",
              "    .dataframe tbody tr th:only-of-type {\n",
              "        vertical-align: middle;\n",
              "    }\n",
              "\n",
              "    .dataframe tbody tr th {\n",
              "        vertical-align: top;\n",
              "    }\n",
              "\n",
              "    .dataframe thead th {\n",
              "        text-align: right;\n",
              "    }\n",
              "</style>\n",
              "<table border=\"1\" class=\"dataframe\">\n",
              "  <thead>\n",
              "    <tr style=\"text-align: right;\">\n",
              "      <th></th>\n",
              "      <th>Date Time</th>\n",
              "      <th>p (mbar)</th>\n",
              "      <th>T (degC)</th>\n",
              "      <th>Tpot (K)</th>\n",
              "      <th>Tdew (degC)</th>\n",
              "      <th>rh (%)</th>\n",
              "      <th>VPmax (mbar)</th>\n",
              "      <th>VPact (mbar)</th>\n",
              "      <th>VPdef (mbar)</th>\n",
              "      <th>sh (g/kg)</th>\n",
              "      <th>H2OC (mmol/mol)</th>\n",
              "      <th>rho (g/m**3)</th>\n",
              "      <th>wv (m/s)</th>\n",
              "      <th>max. wv (m/s)</th>\n",
              "      <th>wd (deg)</th>\n",
              "    </tr>\n",
              "  </thead>\n",
              "  <tbody>\n",
              "    <tr>\n",
              "      <th>0</th>\n",
              "      <td>01.01.2009 00:10:00</td>\n",
              "      <td>996.52</td>\n",
              "      <td>-8.02</td>\n",
              "      <td>265.40</td>\n",
              "      <td>-8.90</td>\n",
              "      <td>93.3</td>\n",
              "      <td>3.33</td>\n",
              "      <td>3.11</td>\n",
              "      <td>0.22</td>\n",
              "      <td>1.94</td>\n",
              "      <td>3.12</td>\n",
              "      <td>1307.75</td>\n",
              "      <td>1.03</td>\n",
              "      <td>1.75</td>\n",
              "      <td>152.3</td>\n",
              "    </tr>\n",
              "    <tr>\n",
              "      <th>1</th>\n",
              "      <td>01.01.2009 00:20:00</td>\n",
              "      <td>996.57</td>\n",
              "      <td>-8.41</td>\n",
              "      <td>265.01</td>\n",
              "      <td>-9.28</td>\n",
              "      <td>93.4</td>\n",
              "      <td>3.23</td>\n",
              "      <td>3.02</td>\n",
              "      <td>0.21</td>\n",
              "      <td>1.89</td>\n",
              "      <td>3.03</td>\n",
              "      <td>1309.80</td>\n",
              "      <td>0.72</td>\n",
              "      <td>1.50</td>\n",
              "      <td>136.1</td>\n",
              "    </tr>\n",
              "    <tr>\n",
              "      <th>2</th>\n",
              "      <td>01.01.2009 00:30:00</td>\n",
              "      <td>996.53</td>\n",
              "      <td>-8.51</td>\n",
              "      <td>264.91</td>\n",
              "      <td>-9.31</td>\n",
              "      <td>93.9</td>\n",
              "      <td>3.21</td>\n",
              "      <td>3.01</td>\n",
              "      <td>0.20</td>\n",
              "      <td>1.88</td>\n",
              "      <td>3.02</td>\n",
              "      <td>1310.24</td>\n",
              "      <td>0.19</td>\n",
              "      <td>0.63</td>\n",
              "      <td>171.6</td>\n",
              "    </tr>\n",
              "    <tr>\n",
              "      <th>3</th>\n",
              "      <td>01.01.2009 00:40:00</td>\n",
              "      <td>996.51</td>\n",
              "      <td>-8.31</td>\n",
              "      <td>265.12</td>\n",
              "      <td>-9.07</td>\n",
              "      <td>94.2</td>\n",
              "      <td>3.26</td>\n",
              "      <td>3.07</td>\n",
              "      <td>0.19</td>\n",
              "      <td>1.92</td>\n",
              "      <td>3.08</td>\n",
              "      <td>1309.19</td>\n",
              "      <td>0.34</td>\n",
              "      <td>0.50</td>\n",
              "      <td>198.0</td>\n",
              "    </tr>\n",
              "    <tr>\n",
              "      <th>4</th>\n",
              "      <td>01.01.2009 00:50:00</td>\n",
              "      <td>996.51</td>\n",
              "      <td>-8.27</td>\n",
              "      <td>265.15</td>\n",
              "      <td>-9.04</td>\n",
              "      <td>94.1</td>\n",
              "      <td>3.27</td>\n",
              "      <td>3.08</td>\n",
              "      <td>0.19</td>\n",
              "      <td>1.92</td>\n",
              "      <td>3.09</td>\n",
              "      <td>1309.00</td>\n",
              "      <td>0.32</td>\n",
              "      <td>0.63</td>\n",
              "      <td>214.3</td>\n",
              "    </tr>\n",
              "  </tbody>\n",
              "</table>\n",
              "</div>\n",
              "    <div class=\"colab-df-buttons\">\n",
              "\n",
              "  <div class=\"colab-df-container\">\n",
              "    <button class=\"colab-df-convert\" onclick=\"convertToInteractive('df-60c5db7a-d0c2-42da-b857-648748d0d85d')\"\n",
              "            title=\"Convert this dataframe to an interactive table.\"\n",
              "            style=\"display:none;\">\n",
              "\n",
              "  <svg xmlns=\"http://www.w3.org/2000/svg\" height=\"24px\" viewBox=\"0 -960 960 960\">\n",
              "    <path d=\"M120-120v-720h720v720H120Zm60-500h600v-160H180v160Zm220 220h160v-160H400v160Zm0 220h160v-160H400v160ZM180-400h160v-160H180v160Zm440 0h160v-160H620v160ZM180-180h160v-160H180v160Zm440 0h160v-160H620v160Z\"/>\n",
              "  </svg>\n",
              "    </button>\n",
              "\n",
              "  <style>\n",
              "    .colab-df-container {\n",
              "      display:flex;\n",
              "      gap: 12px;\n",
              "    }\n",
              "\n",
              "    .colab-df-convert {\n",
              "      background-color: #E8F0FE;\n",
              "      border: none;\n",
              "      border-radius: 50%;\n",
              "      cursor: pointer;\n",
              "      display: none;\n",
              "      fill: #1967D2;\n",
              "      height: 32px;\n",
              "      padding: 0 0 0 0;\n",
              "      width: 32px;\n",
              "    }\n",
              "\n",
              "    .colab-df-convert:hover {\n",
              "      background-color: #E2EBFA;\n",
              "      box-shadow: 0px 1px 2px rgba(60, 64, 67, 0.3), 0px 1px 3px 1px rgba(60, 64, 67, 0.15);\n",
              "      fill: #174EA6;\n",
              "    }\n",
              "\n",
              "    .colab-df-buttons div {\n",
              "      margin-bottom: 4px;\n",
              "    }\n",
              "\n",
              "    [theme=dark] .colab-df-convert {\n",
              "      background-color: #3B4455;\n",
              "      fill: #D2E3FC;\n",
              "    }\n",
              "\n",
              "    [theme=dark] .colab-df-convert:hover {\n",
              "      background-color: #434B5C;\n",
              "      box-shadow: 0px 1px 3px 1px rgba(0, 0, 0, 0.15);\n",
              "      filter: drop-shadow(0px 1px 2px rgba(0, 0, 0, 0.3));\n",
              "      fill: #FFFFFF;\n",
              "    }\n",
              "  </style>\n",
              "\n",
              "    <script>\n",
              "      const buttonEl =\n",
              "        document.querySelector('#df-60c5db7a-d0c2-42da-b857-648748d0d85d button.colab-df-convert');\n",
              "      buttonEl.style.display =\n",
              "        google.colab.kernel.accessAllowed ? 'block' : 'none';\n",
              "\n",
              "      async function convertToInteractive(key) {\n",
              "        const element = document.querySelector('#df-60c5db7a-d0c2-42da-b857-648748d0d85d');\n",
              "        const dataTable =\n",
              "          await google.colab.kernel.invokeFunction('convertToInteractive',\n",
              "                                                    [key], {});\n",
              "        if (!dataTable) return;\n",
              "\n",
              "        const docLinkHtml = 'Like what you see? Visit the ' +\n",
              "          '<a target=\"_blank\" href=https://colab.research.google.com/notebooks/data_table.ipynb>data table notebook</a>'\n",
              "          + ' to learn more about interactive tables.';\n",
              "        element.innerHTML = '';\n",
              "        dataTable['output_type'] = 'display_data';\n",
              "        await google.colab.output.renderOutput(dataTable, element);\n",
              "        const docLink = document.createElement('div');\n",
              "        docLink.innerHTML = docLinkHtml;\n",
              "        element.appendChild(docLink);\n",
              "      }\n",
              "    </script>\n",
              "  </div>\n",
              "\n",
              "\n",
              "<div id=\"df-706f8e08-cf40-492d-91ef-979ddad358a2\">\n",
              "  <button class=\"colab-df-quickchart\" onclick=\"quickchart('df-706f8e08-cf40-492d-91ef-979ddad358a2')\"\n",
              "            title=\"Suggest charts\"\n",
              "            style=\"display:none;\">\n",
              "\n",
              "<svg xmlns=\"http://www.w3.org/2000/svg\" height=\"24px\"viewBox=\"0 0 24 24\"\n",
              "     width=\"24px\">\n",
              "    <g>\n",
              "        <path d=\"M19 3H5c-1.1 0-2 .9-2 2v14c0 1.1.9 2 2 2h14c1.1 0 2-.9 2-2V5c0-1.1-.9-2-2-2zM9 17H7v-7h2v7zm4 0h-2V7h2v10zm4 0h-2v-4h2v4z\"/>\n",
              "    </g>\n",
              "</svg>\n",
              "  </button>\n",
              "\n",
              "<style>\n",
              "  .colab-df-quickchart {\n",
              "      --bg-color: #E8F0FE;\n",
              "      --fill-color: #1967D2;\n",
              "      --hover-bg-color: #E2EBFA;\n",
              "      --hover-fill-color: #174EA6;\n",
              "      --disabled-fill-color: #AAA;\n",
              "      --disabled-bg-color: #DDD;\n",
              "  }\n",
              "\n",
              "  [theme=dark] .colab-df-quickchart {\n",
              "      --bg-color: #3B4455;\n",
              "      --fill-color: #D2E3FC;\n",
              "      --hover-bg-color: #434B5C;\n",
              "      --hover-fill-color: #FFFFFF;\n",
              "      --disabled-bg-color: #3B4455;\n",
              "      --disabled-fill-color: #666;\n",
              "  }\n",
              "\n",
              "  .colab-df-quickchart {\n",
              "    background-color: var(--bg-color);\n",
              "    border: none;\n",
              "    border-radius: 50%;\n",
              "    cursor: pointer;\n",
              "    display: none;\n",
              "    fill: var(--fill-color);\n",
              "    height: 32px;\n",
              "    padding: 0;\n",
              "    width: 32px;\n",
              "  }\n",
              "\n",
              "  .colab-df-quickchart:hover {\n",
              "    background-color: var(--hover-bg-color);\n",
              "    box-shadow: 0 1px 2px rgba(60, 64, 67, 0.3), 0 1px 3px 1px rgba(60, 64, 67, 0.15);\n",
              "    fill: var(--button-hover-fill-color);\n",
              "  }\n",
              "\n",
              "  .colab-df-quickchart-complete:disabled,\n",
              "  .colab-df-quickchart-complete:disabled:hover {\n",
              "    background-color: var(--disabled-bg-color);\n",
              "    fill: var(--disabled-fill-color);\n",
              "    box-shadow: none;\n",
              "  }\n",
              "\n",
              "  .colab-df-spinner {\n",
              "    border: 2px solid var(--fill-color);\n",
              "    border-color: transparent;\n",
              "    border-bottom-color: var(--fill-color);\n",
              "    animation:\n",
              "      spin 1s steps(1) infinite;\n",
              "  }\n",
              "\n",
              "  @keyframes spin {\n",
              "    0% {\n",
              "      border-color: transparent;\n",
              "      border-bottom-color: var(--fill-color);\n",
              "      border-left-color: var(--fill-color);\n",
              "    }\n",
              "    20% {\n",
              "      border-color: transparent;\n",
              "      border-left-color: var(--fill-color);\n",
              "      border-top-color: var(--fill-color);\n",
              "    }\n",
              "    30% {\n",
              "      border-color: transparent;\n",
              "      border-left-color: var(--fill-color);\n",
              "      border-top-color: var(--fill-color);\n",
              "      border-right-color: var(--fill-color);\n",
              "    }\n",
              "    40% {\n",
              "      border-color: transparent;\n",
              "      border-right-color: var(--fill-color);\n",
              "      border-top-color: var(--fill-color);\n",
              "    }\n",
              "    60% {\n",
              "      border-color: transparent;\n",
              "      border-right-color: var(--fill-color);\n",
              "    }\n",
              "    80% {\n",
              "      border-color: transparent;\n",
              "      border-right-color: var(--fill-color);\n",
              "      border-bottom-color: var(--fill-color);\n",
              "    }\n",
              "    90% {\n",
              "      border-color: transparent;\n",
              "      border-bottom-color: var(--fill-color);\n",
              "    }\n",
              "  }\n",
              "</style>\n",
              "\n",
              "  <script>\n",
              "    async function quickchart(key) {\n",
              "      const quickchartButtonEl =\n",
              "        document.querySelector('#' + key + ' button');\n",
              "      quickchartButtonEl.disabled = true;  // To prevent multiple clicks.\n",
              "      quickchartButtonEl.classList.add('colab-df-spinner');\n",
              "      try {\n",
              "        const charts = await google.colab.kernel.invokeFunction(\n",
              "            'suggestCharts', [key], {});\n",
              "      } catch (error) {\n",
              "        console.error('Error during call to suggestCharts:', error);\n",
              "      }\n",
              "      quickchartButtonEl.classList.remove('colab-df-spinner');\n",
              "      quickchartButtonEl.classList.add('colab-df-quickchart-complete');\n",
              "    }\n",
              "    (() => {\n",
              "      let quickchartButtonEl =\n",
              "        document.querySelector('#df-706f8e08-cf40-492d-91ef-979ddad358a2 button');\n",
              "      quickchartButtonEl.style.display =\n",
              "        google.colab.kernel.accessAllowed ? 'block' : 'none';\n",
              "    })();\n",
              "  </script>\n",
              "</div>\n",
              "    </div>\n",
              "  </div>\n"
            ]
          },
          "metadata": {},
          "execution_count": 7
        }
      ]
    },
    {
      "cell_type": "markdown",
      "source": [
        "##2. Preprocessing The Dataset\n",
        "\n",
        "I'll use Temp data from the Dataset, and drop the other columns.\n",
        "Because the Dataset records data every 10 minutes, I'll only use data with 60-minute intervals.\n",
        "After that, I'll inspect the data distribution"
      ],
      "metadata": {
        "id": "74VhZq2RkGVn"
      }
    },
    {
      "cell_type": "code",
      "source": [
        "df_data = df[['Date Time', 'T (degC)']].rename(columns={'T (degC)':'Temp', 'Date Time':'date'})"
      ],
      "metadata": {
        "id": "Ah-BW2Blo7Qi"
      },
      "execution_count": null,
      "outputs": []
    },
    {
      "cell_type": "code",
      "source": [
        "df_data.head()"
      ],
      "metadata": {
        "colab": {
          "base_uri": "https://localhost:8080/",
          "height": 206
        },
        "id": "slbHU_WrqO7t",
        "outputId": "e51860ba-ce05-4c90-bb55-547ced7454b7"
      },
      "execution_count": null,
      "outputs": [
        {
          "output_type": "execute_result",
          "data": {
            "text/plain": [
              "                  date  Temp\n",
              "0  01.01.2009 00:10:00 -8.02\n",
              "1  01.01.2009 00:20:00 -8.41\n",
              "2  01.01.2009 00:30:00 -8.51\n",
              "3  01.01.2009 00:40:00 -8.31\n",
              "4  01.01.2009 00:50:00 -8.27"
            ],
            "text/html": [
              "\n",
              "  <div id=\"df-bc9ff097-f8bf-4420-9e5f-7e9933854c16\" class=\"colab-df-container\">\n",
              "    <div>\n",
              "<style scoped>\n",
              "    .dataframe tbody tr th:only-of-type {\n",
              "        vertical-align: middle;\n",
              "    }\n",
              "\n",
              "    .dataframe tbody tr th {\n",
              "        vertical-align: top;\n",
              "    }\n",
              "\n",
              "    .dataframe thead th {\n",
              "        text-align: right;\n",
              "    }\n",
              "</style>\n",
              "<table border=\"1\" class=\"dataframe\">\n",
              "  <thead>\n",
              "    <tr style=\"text-align: right;\">\n",
              "      <th></th>\n",
              "      <th>date</th>\n",
              "      <th>Temp</th>\n",
              "    </tr>\n",
              "  </thead>\n",
              "  <tbody>\n",
              "    <tr>\n",
              "      <th>0</th>\n",
              "      <td>01.01.2009 00:10:00</td>\n",
              "      <td>-8.02</td>\n",
              "    </tr>\n",
              "    <tr>\n",
              "      <th>1</th>\n",
              "      <td>01.01.2009 00:20:00</td>\n",
              "      <td>-8.41</td>\n",
              "    </tr>\n",
              "    <tr>\n",
              "      <th>2</th>\n",
              "      <td>01.01.2009 00:30:00</td>\n",
              "      <td>-8.51</td>\n",
              "    </tr>\n",
              "    <tr>\n",
              "      <th>3</th>\n",
              "      <td>01.01.2009 00:40:00</td>\n",
              "      <td>-8.31</td>\n",
              "    </tr>\n",
              "    <tr>\n",
              "      <th>4</th>\n",
              "      <td>01.01.2009 00:50:00</td>\n",
              "      <td>-8.27</td>\n",
              "    </tr>\n",
              "  </tbody>\n",
              "</table>\n",
              "</div>\n",
              "    <div class=\"colab-df-buttons\">\n",
              "\n",
              "  <div class=\"colab-df-container\">\n",
              "    <button class=\"colab-df-convert\" onclick=\"convertToInteractive('df-bc9ff097-f8bf-4420-9e5f-7e9933854c16')\"\n",
              "            title=\"Convert this dataframe to an interactive table.\"\n",
              "            style=\"display:none;\">\n",
              "\n",
              "  <svg xmlns=\"http://www.w3.org/2000/svg\" height=\"24px\" viewBox=\"0 -960 960 960\">\n",
              "    <path d=\"M120-120v-720h720v720H120Zm60-500h600v-160H180v160Zm220 220h160v-160H400v160Zm0 220h160v-160H400v160ZM180-400h160v-160H180v160Zm440 0h160v-160H620v160ZM180-180h160v-160H180v160Zm440 0h160v-160H620v160Z\"/>\n",
              "  </svg>\n",
              "    </button>\n",
              "\n",
              "  <style>\n",
              "    .colab-df-container {\n",
              "      display:flex;\n",
              "      gap: 12px;\n",
              "    }\n",
              "\n",
              "    .colab-df-convert {\n",
              "      background-color: #E8F0FE;\n",
              "      border: none;\n",
              "      border-radius: 50%;\n",
              "      cursor: pointer;\n",
              "      display: none;\n",
              "      fill: #1967D2;\n",
              "      height: 32px;\n",
              "      padding: 0 0 0 0;\n",
              "      width: 32px;\n",
              "    }\n",
              "\n",
              "    .colab-df-convert:hover {\n",
              "      background-color: #E2EBFA;\n",
              "      box-shadow: 0px 1px 2px rgba(60, 64, 67, 0.3), 0px 1px 3px 1px rgba(60, 64, 67, 0.15);\n",
              "      fill: #174EA6;\n",
              "    }\n",
              "\n",
              "    .colab-df-buttons div {\n",
              "      margin-bottom: 4px;\n",
              "    }\n",
              "\n",
              "    [theme=dark] .colab-df-convert {\n",
              "      background-color: #3B4455;\n",
              "      fill: #D2E3FC;\n",
              "    }\n",
              "\n",
              "    [theme=dark] .colab-df-convert:hover {\n",
              "      background-color: #434B5C;\n",
              "      box-shadow: 0px 1px 3px 1px rgba(0, 0, 0, 0.15);\n",
              "      filter: drop-shadow(0px 1px 2px rgba(0, 0, 0, 0.3));\n",
              "      fill: #FFFFFF;\n",
              "    }\n",
              "  </style>\n",
              "\n",
              "    <script>\n",
              "      const buttonEl =\n",
              "        document.querySelector('#df-bc9ff097-f8bf-4420-9e5f-7e9933854c16 button.colab-df-convert');\n",
              "      buttonEl.style.display =\n",
              "        google.colab.kernel.accessAllowed ? 'block' : 'none';\n",
              "\n",
              "      async function convertToInteractive(key) {\n",
              "        const element = document.querySelector('#df-bc9ff097-f8bf-4420-9e5f-7e9933854c16');\n",
              "        const dataTable =\n",
              "          await google.colab.kernel.invokeFunction('convertToInteractive',\n",
              "                                                    [key], {});\n",
              "        if (!dataTable) return;\n",
              "\n",
              "        const docLinkHtml = 'Like what you see? Visit the ' +\n",
              "          '<a target=\"_blank\" href=https://colab.research.google.com/notebooks/data_table.ipynb>data table notebook</a>'\n",
              "          + ' to learn more about interactive tables.';\n",
              "        element.innerHTML = '';\n",
              "        dataTable['output_type'] = 'display_data';\n",
              "        await google.colab.output.renderOutput(dataTable, element);\n",
              "        const docLink = document.createElement('div');\n",
              "        docLink.innerHTML = docLinkHtml;\n",
              "        element.appendChild(docLink);\n",
              "      }\n",
              "    </script>\n",
              "  </div>\n",
              "\n",
              "\n",
              "<div id=\"df-8c0bd461-d7b1-4dd4-8be3-1c90c15d5df3\">\n",
              "  <button class=\"colab-df-quickchart\" onclick=\"quickchart('df-8c0bd461-d7b1-4dd4-8be3-1c90c15d5df3')\"\n",
              "            title=\"Suggest charts\"\n",
              "            style=\"display:none;\">\n",
              "\n",
              "<svg xmlns=\"http://www.w3.org/2000/svg\" height=\"24px\"viewBox=\"0 0 24 24\"\n",
              "     width=\"24px\">\n",
              "    <g>\n",
              "        <path d=\"M19 3H5c-1.1 0-2 .9-2 2v14c0 1.1.9 2 2 2h14c1.1 0 2-.9 2-2V5c0-1.1-.9-2-2-2zM9 17H7v-7h2v7zm4 0h-2V7h2v10zm4 0h-2v-4h2v4z\"/>\n",
              "    </g>\n",
              "</svg>\n",
              "  </button>\n",
              "\n",
              "<style>\n",
              "  .colab-df-quickchart {\n",
              "      --bg-color: #E8F0FE;\n",
              "      --fill-color: #1967D2;\n",
              "      --hover-bg-color: #E2EBFA;\n",
              "      --hover-fill-color: #174EA6;\n",
              "      --disabled-fill-color: #AAA;\n",
              "      --disabled-bg-color: #DDD;\n",
              "  }\n",
              "\n",
              "  [theme=dark] .colab-df-quickchart {\n",
              "      --bg-color: #3B4455;\n",
              "      --fill-color: #D2E3FC;\n",
              "      --hover-bg-color: #434B5C;\n",
              "      --hover-fill-color: #FFFFFF;\n",
              "      --disabled-bg-color: #3B4455;\n",
              "      --disabled-fill-color: #666;\n",
              "  }\n",
              "\n",
              "  .colab-df-quickchart {\n",
              "    background-color: var(--bg-color);\n",
              "    border: none;\n",
              "    border-radius: 50%;\n",
              "    cursor: pointer;\n",
              "    display: none;\n",
              "    fill: var(--fill-color);\n",
              "    height: 32px;\n",
              "    padding: 0;\n",
              "    width: 32px;\n",
              "  }\n",
              "\n",
              "  .colab-df-quickchart:hover {\n",
              "    background-color: var(--hover-bg-color);\n",
              "    box-shadow: 0 1px 2px rgba(60, 64, 67, 0.3), 0 1px 3px 1px rgba(60, 64, 67, 0.15);\n",
              "    fill: var(--button-hover-fill-color);\n",
              "  }\n",
              "\n",
              "  .colab-df-quickchart-complete:disabled,\n",
              "  .colab-df-quickchart-complete:disabled:hover {\n",
              "    background-color: var(--disabled-bg-color);\n",
              "    fill: var(--disabled-fill-color);\n",
              "    box-shadow: none;\n",
              "  }\n",
              "\n",
              "  .colab-df-spinner {\n",
              "    border: 2px solid var(--fill-color);\n",
              "    border-color: transparent;\n",
              "    border-bottom-color: var(--fill-color);\n",
              "    animation:\n",
              "      spin 1s steps(1) infinite;\n",
              "  }\n",
              "\n",
              "  @keyframes spin {\n",
              "    0% {\n",
              "      border-color: transparent;\n",
              "      border-bottom-color: var(--fill-color);\n",
              "      border-left-color: var(--fill-color);\n",
              "    }\n",
              "    20% {\n",
              "      border-color: transparent;\n",
              "      border-left-color: var(--fill-color);\n",
              "      border-top-color: var(--fill-color);\n",
              "    }\n",
              "    30% {\n",
              "      border-color: transparent;\n",
              "      border-left-color: var(--fill-color);\n",
              "      border-top-color: var(--fill-color);\n",
              "      border-right-color: var(--fill-color);\n",
              "    }\n",
              "    40% {\n",
              "      border-color: transparent;\n",
              "      border-right-color: var(--fill-color);\n",
              "      border-top-color: var(--fill-color);\n",
              "    }\n",
              "    60% {\n",
              "      border-color: transparent;\n",
              "      border-right-color: var(--fill-color);\n",
              "    }\n",
              "    80% {\n",
              "      border-color: transparent;\n",
              "      border-right-color: var(--fill-color);\n",
              "      border-bottom-color: var(--fill-color);\n",
              "    }\n",
              "    90% {\n",
              "      border-color: transparent;\n",
              "      border-bottom-color: var(--fill-color);\n",
              "    }\n",
              "  }\n",
              "</style>\n",
              "\n",
              "  <script>\n",
              "    async function quickchart(key) {\n",
              "      const quickchartButtonEl =\n",
              "        document.querySelector('#' + key + ' button');\n",
              "      quickchartButtonEl.disabled = true;  // To prevent multiple clicks.\n",
              "      quickchartButtonEl.classList.add('colab-df-spinner');\n",
              "      try {\n",
              "        const charts = await google.colab.kernel.invokeFunction(\n",
              "            'suggestCharts', [key], {});\n",
              "      } catch (error) {\n",
              "        console.error('Error during call to suggestCharts:', error);\n",
              "      }\n",
              "      quickchartButtonEl.classList.remove('colab-df-spinner');\n",
              "      quickchartButtonEl.classList.add('colab-df-quickchart-complete');\n",
              "    }\n",
              "    (() => {\n",
              "      let quickchartButtonEl =\n",
              "        document.querySelector('#df-8c0bd461-d7b1-4dd4-8be3-1c90c15d5df3 button');\n",
              "      quickchartButtonEl.style.display =\n",
              "        google.colab.kernel.accessAllowed ? 'block' : 'none';\n",
              "    })();\n",
              "  </script>\n",
              "</div>\n",
              "    </div>\n",
              "  </div>\n"
            ]
          },
          "metadata": {},
          "execution_count": 9
        }
      ]
    },
    {
      "cell_type": "code",
      "execution_count": null,
      "metadata": {
        "colab": {
          "base_uri": "https://localhost:8080/",
          "height": 469
        },
        "id": "H0kXsJ6NNuKA",
        "outputId": "ce68f88e-0ba9-4321-bdea-ef05d31e5fea"
      },
      "outputs": [
        {
          "output_type": "execute_result",
          "data": {
            "text/plain": [
              "Text(0.5, 1.0, 'Temperature average')"
            ]
          },
          "metadata": {},
          "execution_count": 10
        },
        {
          "output_type": "display_data",
          "data": {
            "text/plain": [
              "<Figure size 1500x500 with 1 Axes>"
            ],
            "image/png": "[encoded data removed]"
          },
          "metadata": {}
        }
      ],
      "source": [
        "import matplotlib.pyplot as plt\n",
        "\n",
        "df_data.plot(figsize= (15,5))\n",
        "plt.title('Temperature average',\n",
        "           fontsize=20)"
      ]
    },
    {
      "cell_type": "markdown",
      "source": [
        "From the plot above, it seems the Dataset is seasonal data."
      ],
      "metadata": {
        "id": "BwCJxofomsD_"
      }
    },
    {
      "cell_type": "code",
      "source": [
        "from datetime import date\n",
        "df_data['date'] = pd.to_datetime(df_data['date'])"
      ],
      "metadata": {
        "id": "qo8b6zewwMk7"
      },
      "execution_count": null,
      "outputs": []
    },
    {
      "cell_type": "code",
      "source": [
        "df_data_hour = df_data[5::6].reset_index().drop('index', axis=1)\n",
        "df_data_hour"
      ],
      "metadata": {
        "colab": {
          "base_uri": "https://localhost:8080/",
          "height": 423
        },
        "id": "LKmUeH3yw47l",
        "outputId": "ef6ad02f-f16c-4f54-91ba-4d6cdddc0276"
      },
      "execution_count": null,
      "outputs": [
        {
          "output_type": "execute_result",
          "data": {
            "text/plain": [
              "                     date  Temp\n",
              "0     2009-01-01 01:00:00 -8.05\n",
              "1     2009-01-01 02:00:00 -8.88\n",
              "2     2009-01-01 03:00:00 -8.81\n",
              "3     2009-01-01 04:00:00 -9.05\n",
              "4     2009-01-01 05:00:00 -9.63\n",
              "...                   ...   ...\n",
              "70086 2016-12-31 19:10:00 -0.98\n",
              "70087 2016-12-31 20:10:00 -1.40\n",
              "70088 2016-12-31 21:10:00 -2.75\n",
              "70089 2016-12-31 22:10:00 -2.89\n",
              "70090 2016-12-31 23:10:00 -3.93\n",
              "\n",
              "[70091 rows x 2 columns]"
            ],
            "text/html": [
              "\n",
              "  <div id=\"df-014be264-2880-47ba-a630-a45191905cf9\" class=\"colab-df-container\">\n",
              "    <div>\n",
              "<style scoped>\n",
              "    .dataframe tbody tr th:only-of-type {\n",
              "        vertical-align: middle;\n",
              "    }\n",
              "\n",
              "    .dataframe tbody tr th {\n",
              "        vertical-align: top;\n",
              "    }\n",
              "\n",
              "    .dataframe thead th {\n",
              "        text-align: right;\n",
              "    }\n",
              "</style>\n",
              "<table border=\"1\" class=\"dataframe\">\n",
              "  <thead>\n",
              "    <tr style=\"text-align: right;\">\n",
              "      <th></th>\n",
              "      <th>date</th>\n",
              "      <th>Temp</th>\n",
              "    </tr>\n",
              "  </thead>\n",
              "  <tbody>\n",
              "    <tr>\n",
              "      <th>0</th>\n",
              "      <td>2009-01-01 01:00:00</td>\n",
              "      <td>-8.05</td>\n",
              "    </tr>\n",
              "    <tr>\n",
              "      <th>1</th>\n",
              "      <td>2009-01-01 02:00:00</td>\n",
              "      <td>-8.88</td>\n",
              "    </tr>\n",
              "    <tr>\n",
              "      <th>2</th>\n",
              "      <td>2009-01-01 03:00:00</td>\n",
              "      <td>-8.81</td>\n",
              "    </tr>\n",
              "    <tr>\n",
              "      <th>3</th>\n",
              "      <td>2009-01-01 04:00:00</td>\n",
              "      <td>-9.05</td>\n",
              "    </tr>\n",
              "    <tr>\n",
              "      <th>4</th>\n",
              "      <td>2009-01-01 05:00:00</td>\n",
              "      <td>-9.63</td>\n",
              "    </tr>\n",
              "    <tr>\n",
              "      <th>...</th>\n",
              "      <td>...</td>\n",
              "      <td>...</td>\n",
              "    </tr>\n",
              "    <tr>\n",
              "      <th>70086</th>\n",
              "      <td>2016-12-31 19:10:00</td>\n",
              "      <td>-0.98</td>\n",
              "    </tr>\n",
              "    <tr>\n",
              "      <th>70087</th>\n",
              "      <td>2016-12-31 20:10:00</td>\n",
              "      <td>-1.40</td>\n",
              "    </tr>\n",
              "    <tr>\n",
              "      <th>70088</th>\n",
              "      <td>2016-12-31 21:10:00</td>\n",
              "      <td>-2.75</td>\n",
              "    </tr>\n",
              "    <tr>\n",
              "      <th>70089</th>\n",
              "      <td>2016-12-31 22:10:00</td>\n",
              "      <td>-2.89</td>\n",
              "    </tr>\n",
              "    <tr>\n",
              "      <th>70090</th>\n",
              "      <td>2016-12-31 23:10:00</td>\n",
              "      <td>-3.93</td>\n",
              "    </tr>\n",
              "  </tbody>\n",
              "</table>\n",
              "<p>70091 rows × 2 columns</p>\n",
              "</div>\n",
              "    <div class=\"colab-df-buttons\">\n",
              "\n",
              "  <div class=\"colab-df-container\">\n",
              "    <button class=\"colab-df-convert\" onclick=\"convertToInteractive('df-014be264-2880-47ba-a630-a45191905cf9')\"\n",
              "            title=\"Convert this dataframe to an interactive table.\"\n",
              "            style=\"display:none;\">\n",
              "\n",
              "  <svg xmlns=\"http://www.w3.org/2000/svg\" height=\"24px\" viewBox=\"0 -960 960 960\">\n",
              "    <path d=\"M120-120v-720h720v720H120Zm60-500h600v-160H180v160Zm220 220h160v-160H400v160Zm0 220h160v-160H400v160ZM180-400h160v-160H180v160Zm440 0h160v-160H620v160ZM180-180h160v-160H180v160Zm440 0h160v-160H620v160Z\"/>\n",
              "  </svg>\n",
              "    </button>\n",
              "\n",
              "  <style>\n",
              "    .colab-df-container {\n",
              "      display:flex;\n",
              "      gap: 12px;\n",
              "    }\n",
              "\n",
              "    .colab-df-convert {\n",
              "      background-color: #E8F0FE;\n",
              "      border: none;\n",
              "      border-radius: 50%;\n",
              "      cursor: pointer;\n",
              "      display: none;\n",
              "      fill: #1967D2;\n",
              "      height: 32px;\n",
              "      padding: 0 0 0 0;\n",
              "      width: 32px;\n",
              "    }\n",
              "\n",
              "    .colab-df-convert:hover {\n",
              "      background-color: #E2EBFA;\n",
              "      box-shadow: 0px 1px 2px rgba(60, 64, 67, 0.3), 0px 1px 3px 1px rgba(60, 64, 67, 0.15);\n",
              "      fill: #174EA6;\n",
              "    }\n",
              "\n",
              "    .colab-df-buttons div {\n",
              "      margin-bottom: 4px;\n",
              "    }\n",
              "\n",
              "    [theme=dark] .colab-df-convert {\n",
              "      background-color: #3B4455;\n",
              "      fill: #D2E3FC;\n",
              "    }\n",
              "\n",
              "    [theme=dark] .colab-df-convert:hover {\n",
              "      background-color: #434B5C;\n",
              "      box-shadow: 0px 1px 3px 1px rgba(0, 0, 0, 0.15);\n",
              "      filter: drop-shadow(0px 1px 2px rgba(0, 0, 0, 0.3));\n",
              "      fill: #FFFFFF;\n",
              "    }\n",
              "  </style>\n",
              "\n",
              "    <script>\n",
              "      const buttonEl =\n",
              "        document.querySelector('#df-014be264-2880-47ba-a630-a45191905cf9 button.colab-df-convert');\n",
              "      buttonEl.style.display =\n",
              "        google.colab.kernel.accessAllowed ? 'block' : 'none';\n",
              "\n",
              "      async function convertToInteractive(key) {\n",
              "        const element = document.querySelector('#df-014be264-2880-47ba-a630-a45191905cf9');\n",
              "        const dataTable =\n",
              "          await google.colab.kernel.invokeFunction('convertToInteractive',\n",
              "                                                    [key], {});\n",
              "        if (!dataTable) return;\n",
              "\n",
              "        const docLinkHtml = 'Like what you see? Visit the ' +\n",
              "          '<a target=\"_blank\" href=https://colab.research.google.com/notebooks/data_table.ipynb>data table notebook</a>'\n",
              "          + ' to learn more about interactive tables.';\n",
              "        element.innerHTML = '';\n",
              "        dataTable['output_type'] = 'display_data';\n",
              "        await google.colab.output.renderOutput(dataTable, element);\n",
              "        const docLink = document.createElement('div');\n",
              "        docLink.innerHTML = docLinkHtml;\n",
              "        element.appendChild(docLink);\n",
              "      }\n",
              "    </script>\n",
              "  </div>\n",
              "\n",
              "\n",
              "<div id=\"df-b3366966-4761-45e5-8519-06d80c4926ea\">\n",
              "  <button class=\"colab-df-quickchart\" onclick=\"quickchart('df-b3366966-4761-45e5-8519-06d80c4926ea')\"\n",
              "            title=\"Suggest charts\"\n",
              "            style=\"display:none;\">\n",
              "\n",
              "<svg xmlns=\"http://www.w3.org/2000/svg\" height=\"24px\"viewBox=\"0 0 24 24\"\n",
              "     width=\"24px\">\n",
              "    <g>\n",
              "        <path d=\"M19 3H5c-1.1 0-2 .9-2 2v14c0 1.1.9 2 2 2h14c1.1 0 2-.9 2-2V5c0-1.1-.9-2-2-2zM9 17H7v-7h2v7zm4 0h-2V7h2v10zm4 0h-2v-4h2v4z\"/>\n",
              "    </g>\n",
              "</svg>\n",
              "  </button>\n",
              "\n",
              "<style>\n",
              "  .colab-df-quickchart {\n",
              "      --bg-color: #E8F0FE;\n",
              "      --fill-color: #1967D2;\n",
              "      --hover-bg-color: #E2EBFA;\n",
              "      --hover-fill-color: #174EA6;\n",
              "      --disabled-fill-color: #AAA;\n",
              "      --disabled-bg-color: #DDD;\n",
              "  }\n",
              "\n",
              "  [theme=dark] .colab-df-quickchart {\n",
              "      --bg-color: #3B4455;\n",
              "      --fill-color: #D2E3FC;\n",
              "      --hover-bg-color: #434B5C;\n",
              "      --hover-fill-color: #FFFFFF;\n",
              "      --disabled-bg-color: #3B4455;\n",
              "      --disabled-fill-color: #666;\n",
              "  }\n",
              "\n",
              "  .colab-df-quickchart {\n",
              "    background-color: var(--bg-color);\n",
              "    border: none;\n",
              "    border-radius: 50%;\n",
              "    cursor: pointer;\n",
              "    display: none;\n",
              "    fill: var(--fill-color);\n",
              "    height: 32px;\n",
              "    padding: 0;\n",
              "    width: 32px;\n",
              "  }\n",
              "\n",
              "  .colab-df-quickchart:hover {\n",
              "    background-color: var(--hover-bg-color);\n",
              "    box-shadow: 0 1px 2px rgba(60, 64, 67, 0.3), 0 1px 3px 1px rgba(60, 64, 67, 0.15);\n",
              "    fill: var(--button-hover-fill-color);\n",
              "  }\n",
              "\n",
              "  .colab-df-quickchart-complete:disabled,\n",
              "  .colab-df-quickchart-complete:disabled:hover {\n",
              "    background-color: var(--disabled-bg-color);\n",
              "    fill: var(--disabled-fill-color);\n",
              "    box-shadow: none;\n",
              "  }\n",
              "\n",
              "  .colab-df-spinner {\n",
              "    border: 2px solid var(--fill-color);\n",
              "    border-color: transparent;\n",
              "    border-bottom-color: var(--fill-color);\n",
              "    animation:\n",
              "      spin 1s steps(1) infinite;\n",
              "  }\n",
              "\n",
              "  @keyframes spin {\n",
              "    0% {\n",
              "      border-color: transparent;\n",
              "      border-bottom-color: var(--fill-color);\n",
              "      border-left-color: var(--fill-color);\n",
              "    }\n",
              "    20% {\n",
              "      border-color: transparent;\n",
              "      border-left-color: var(--fill-color);\n",
              "      border-top-color: var(--fill-color);\n",
              "    }\n",
              "    30% {\n",
              "      border-color: transparent;\n",
              "      border-left-color: var(--fill-color);\n",
              "      border-top-color: var(--fill-color);\n",
              "      border-right-color: var(--fill-color);\n",
              "    }\n",
              "    40% {\n",
              "      border-color: transparent;\n",
              "      border-right-color: var(--fill-color);\n",
              "      border-top-color: var(--fill-color);\n",
              "    }\n",
              "    60% {\n",
              "      border-color: transparent;\n",
              "      border-right-color: var(--fill-color);\n",
              "    }\n",
              "    80% {\n",
              "      border-color: transparent;\n",
              "      border-right-color: var(--fill-color);\n",
              "      border-bottom-color: var(--fill-color);\n",
              "    }\n",
              "    90% {\n",
              "      border-color: transparent;\n",
              "      border-bottom-color: var(--fill-color);\n",
              "    }\n",
              "  }\n",
              "</style>\n",
              "\n",
              "  <script>\n",
              "    async function quickchart(key) {\n",
              "      const quickchartButtonEl =\n",
              "        document.querySelector('#' + key + ' button');\n",
              "      quickchartButtonEl.disabled = true;  // To prevent multiple clicks.\n",
              "      quickchartButtonEl.classList.add('colab-df-spinner');\n",
              "      try {\n",
              "        const charts = await google.colab.kernel.invokeFunction(\n",
              "            'suggestCharts', [key], {});\n",
              "      } catch (error) {\n",
              "        console.error('Error during call to suggestCharts:', error);\n",
              "      }\n",
              "      quickchartButtonEl.classList.remove('colab-df-spinner');\n",
              "      quickchartButtonEl.classList.add('colab-df-quickchart-complete');\n",
              "    }\n",
              "    (() => {\n",
              "      let quickchartButtonEl =\n",
              "        document.querySelector('#df-b3366966-4761-45e5-8519-06d80c4926ea button');\n",
              "      quickchartButtonEl.style.display =\n",
              "        google.colab.kernel.accessAllowed ? 'block' : 'none';\n",
              "    })();\n",
              "  </script>\n",
              "</div>\n",
              "    </div>\n",
              "  </div>\n"
            ]
          },
          "metadata": {},
          "execution_count": 12
        }
      ]
    },
    {
      "cell_type": "markdown",
      "source": [
        "Inspect data distribution using sns.distplot"
      ],
      "metadata": {
        "id": "awC6yxxWm3mv"
      }
    },
    {
      "cell_type": "code",
      "source": [
        "import seaborn as sns\n",
        "\n",
        "plt.figure(figsize= (14,5))\n",
        "sns.distplot(df_data_hour['Temp'])"
      ],
      "metadata": {
        "colab": {
          "base_uri": "https://localhost:8080/",
          "height": 670
        },
        "id": "yofPrpSYxtYr",
        "outputId": "825d1f70-e057-4385-b2dd-0e37e3e7c821"
      },
      "execution_count": null,
      "outputs": [
        {
          "output_type": "stream",
          "name": "stderr",
          "text": [
            "<ipython-input-13-0294395e07df>:4: UserWarning: \n",
            "\n",
            "`distplot` is a deprecated function and will be removed in seaborn v0.14.0.\n",
            "\n",
            "Please adapt your code to use either `displot` (a figure-level function with\n",
            "similar flexibility) or `histplot` (an axes-level function for histograms).\n",
            "\n",
            "For a guide to updating your code to use the new functions, please see\n",
            "https://gist.github.com/mwaskom/de44147ed2974457ad6372750bbe5751\n",
            "\n",
            "  sns.distplot(df_data_hour['Temp'])\n"
          ]
        },
        {
          "output_type": "execute_result",
          "data": {
            "text/plain": [
              "<Axes: xlabel='Temp', ylabel='Density'>"
            ]
          },
          "metadata": {},
          "execution_count": 13
        },
        {
          "output_type": "display_data",
          "data": {
            "text/plain": [
              "<Figure size 1400x500 with 1 Axes>"
            ],
            "image/png": "[encoded data removed]"
          },
          "metadata": {}
        }
      ]
    },
    {
      "cell_type": "markdown",
      "source": [
        "From sns.distplot, the data is normally distributed and ready to use for the model"
      ],
      "metadata": {
        "id": "hvxsS4F0nMK8"
      }
    },
    {
      "cell_type": "markdown",
      "source": [
        "##3. Prepare the Dataset for model\n",
        "\n",
        "Change the data into an array using numpy array so it can be recognized by the model"
      ],
      "metadata": {
        "id": "rKormoFvnW6J"
      }
    },
    {
      "cell_type": "code",
      "source": [
        "import numpy as np\n",
        "\n",
        "def Sequential_Input_LSTM(df, input_sequence):\n",
        "    df_np = df.to_numpy()\n",
        "    X = []\n",
        "    y = []\n",
        "\n",
        "    for i in range(len(df_np) - input_sequence):\n",
        "        row = [a for a in df_np[i:i + input_sequence]]\n",
        "        X.append(row)\n",
        "        label = df_np[i + input_sequence]\n",
        "        y.append(label)\n",
        "\n",
        "    return np.array(X), np.array(y)\n",
        "\n",
        "\n",
        "n_input = 20\n",
        "\n",
        "df_min_model_data = df_data_hour['Temp']\n",
        "\n",
        "X, y = Sequential_Input_LSTM(df_min_model_data, n_input)"
      ],
      "metadata": {
        "id": "CH6OoHe4N6ci"
      },
      "execution_count": null,
      "outputs": []
    },
    {
      "cell_type": "code",
      "source": [
        "X"
      ],
      "metadata": {
        "colab": {
          "base_uri": "https://localhost:8080/"
        },
        "id": "AD5G63bmO_ke",
        "outputId": "42769921-06b7-4eb8-a339-e3483326aec1"
      },
      "execution_count": null,
      "outputs": [
        {
          "output_type": "execute_result",
          "data": {
            "text/plain": [
              "array([[-8.05, -8.88, -8.81, ..., -5.25, -5.11, -4.9 ],\n",
              "       [-8.88, -8.81, -9.05, ..., -5.11, -4.9 , -4.8 ],\n",
              "       [-8.81, -9.05, -9.63, ..., -4.9 , -4.8 , -4.5 ],\n",
              "       ...,\n",
              "       [-4.26, -5.05, -4.67, ..., -0.42, -0.98, -1.4 ],\n",
              "       [-5.05, -4.67, -4.47, ..., -0.98, -1.4 , -2.75],\n",
              "       [-4.67, -4.47, -4.9 , ..., -1.4 , -2.75, -2.89]])"
            ]
          },
          "metadata": {},
          "execution_count": 15
        }
      ]
    },
    {
      "cell_type": "code",
      "source": [
        "y"
      ],
      "metadata": {
        "colab": {
          "base_uri": "https://localhost:8080/"
        },
        "id": "uio3yh2YPCjl",
        "outputId": "1c30dc81-081c-4d0d-a79a-6255983899ab"
      },
      "execution_count": null,
      "outputs": [
        {
          "output_type": "execute_result",
          "data": {
            "text/plain": [
              "array([-4.8 , -4.5 , -4.47, ..., -2.75, -2.89, -3.93])"
            ]
          },
          "metadata": {},
          "execution_count": 16
        }
      ]
    },
    {
      "cell_type": "markdown",
      "source": [
        "Because there is a requirement for mae < 10%.\n",
        "I'll calculate mae threshold of the data, and the result is 6%"
      ],
      "metadata": {
        "id": "CuV7WuGdnpQj"
      }
    },
    {
      "cell_type": "code",
      "source": [
        "threshold_mae = (df_data_hour['Temp'].max() - df_data_hour['Temp'].min()) * 10/100\n",
        "threshold_mae"
      ],
      "metadata": {
        "colab": {
          "base_uri": "https://localhost:8080/"
        },
        "id": "ePLRdpqIMN3o",
        "outputId": "b9c3e539-5755-4dd7-be05-0738d843574f"
      },
      "execution_count": null,
      "outputs": [
        {
          "output_type": "execute_result",
          "data": {
            "text/plain": [
              "6.004000000000001"
            ]
          },
          "metadata": {},
          "execution_count": 17
        }
      ]
    },
    {
      "cell_type": "markdown",
      "source": [
        "After that, I'll split the train data and validation data using train_test_split, to split validation data 20% from all data"
      ],
      "metadata": {
        "id": "4nK8gdOYoGNC"
      }
    },
    {
      "cell_type": "code",
      "source": [
        "from sklearn.model_selection import train_test_split\n",
        "\n",
        "\n",
        "X_latih, X_val, y_latih, y_val = train_test_split(X, y, test_size=0.2, shuffle=False)"
      ],
      "metadata": {
        "id": "oSOjtZdg2L_G"
      },
      "execution_count": null,
      "outputs": []
    },
    {
      "cell_type": "code",
      "source": [
        "len(X_latih)"
      ],
      "metadata": {
        "colab": {
          "base_uri": "https://localhost:8080/"
        },
        "id": "_nXQqDq-34jP",
        "outputId": "0ae83f42-a322-4a85-c28f-cd1a3ee732f5"
      },
      "execution_count": null,
      "outputs": [
        {
          "output_type": "execute_result",
          "data": {
            "text/plain": [
              "56056"
            ]
          },
          "metadata": {},
          "execution_count": 19
        }
      ]
    },
    {
      "cell_type": "code",
      "source": [
        "len(X_val)"
      ],
      "metadata": {
        "colab": {
          "base_uri": "https://localhost:8080/"
        },
        "id": "1EhJMWn_4Kcs",
        "outputId": "dee1bbf5-394d-4e2f-972f-b130015c04ef"
      },
      "execution_count": null,
      "outputs": [
        {
          "output_type": "execute_result",
          "data": {
            "text/plain": [
              "14015"
            ]
          },
          "metadata": {},
          "execution_count": 20
        }
      ]
    },
    {
      "cell_type": "markdown",
      "source": [
        "Reshaped the data from a 2D array into a 3D array so the model could recognize it"
      ],
      "metadata": {
        "id": "CoiQOk6xpWwM"
      }
    },
    {
      "cell_type": "code",
      "source": [
        "X_latih_reshaped = np.reshape(X_latih, (X_latih.shape[0], X_latih.shape[1], 1))"
      ],
      "metadata": {
        "id": "DYJhim2vRHNM"
      },
      "execution_count": null,
      "outputs": []
    },
    {
      "cell_type": "code",
      "source": [
        "X_latih_reshaped"
      ],
      "metadata": {
        "colab": {
          "base_uri": "https://localhost:8080/"
        },
        "id": "x4K6L6ZxScBH",
        "outputId": "402deb41-17fa-47c4-f4ed-f5ac15ad2c92"
      },
      "execution_count": null,
      "outputs": [
        {
          "output_type": "execute_result",
          "data": {
            "text/plain": [
              "array([[[-8.05],\n",
              "        [-8.88],\n",
              "        [-8.81],\n",
              "        ...,\n",
              "        [-5.25],\n",
              "        [-5.11],\n",
              "        [-4.9 ]],\n",
              "\n",
              "       [[-8.88],\n",
              "        [-8.81],\n",
              "        [-9.05],\n",
              "        ...,\n",
              "        [-5.11],\n",
              "        [-4.9 ],\n",
              "        [-4.8 ]],\n",
              "\n",
              "       [[-8.81],\n",
              "        [-9.05],\n",
              "        [-9.63],\n",
              "        ...,\n",
              "        [-4.9 ],\n",
              "        [-4.8 ],\n",
              "        [-4.5 ]],\n",
              "\n",
              "       ...,\n",
              "\n",
              "       [[12.85],\n",
              "        [12.55],\n",
              "        [12.24],\n",
              "        ...,\n",
              "        [19.03],\n",
              "        [18.46],\n",
              "        [17.93]],\n",
              "\n",
              "       [[12.55],\n",
              "        [12.24],\n",
              "        [11.97],\n",
              "        ...,\n",
              "        [18.46],\n",
              "        [17.93],\n",
              "        [16.92]],\n",
              "\n",
              "       [[12.24],\n",
              "        [11.97],\n",
              "        [11.66],\n",
              "        ...,\n",
              "        [17.93],\n",
              "        [16.92],\n",
              "        [15.82]]])"
            ]
          },
          "metadata": {},
          "execution_count": 22
        }
      ]
    },
    {
      "cell_type": "markdown",
      "source": [
        "##4. Model\n",
        "\n",
        "Make Sequential model using 3 LSTM layer"
      ],
      "metadata": {
        "id": "bHSKR29vphd_"
      }
    },
    {
      "cell_type": "code",
      "source": [
        "import tensorflow as tf\n",
        "model = tf.keras.models.Sequential([\n",
        "    tf.keras.layers.LSTM(100, input_shape=(X_latih.shape[1], 1), return_sequences=True),\n",
        "    tf.keras.layers.LSTM(100, return_sequences=True),\n",
        "    tf.keras.layers.LSTM(50),\n",
        "    tf.keras.layers.Dense(25, activation='relu'),\n",
        "    tf.keras.layers.Dense(5, activation='relu'),\n",
        "    tf.keras.layers.Dense(1),\n",
        "])"
      ],
      "metadata": {
        "id": "8ULoyXn8-YSg"
      },
      "execution_count": null,
      "outputs": []
    },
    {
      "cell_type": "markdown",
      "source": [
        "Print model summary"
      ],
      "metadata": {
        "id": "jlkcPt9SqLBK"
      }
    },
    {
      "cell_type": "code",
      "source": [
        "model.summary()"
      ],
      "metadata": {
        "colab": {
          "base_uri": "https://localhost:8080/"
        },
        "id": "Ow497CXSUFL0",
        "outputId": "8dd4b9ac-d68f-42fc-d2ce-9f3971fed6ac"
      },
      "execution_count": null,
      "outputs": [
        {
          "output_type": "stream",
          "name": "stdout",
          "text": [
            "Model: \"sequential\"\n",
            "_________________________________________________________________\n",
            " Layer (type)                Output Shape              Param #   \n",
            "=================================================================\n",
            " lstm (LSTM)                 (None, 20, 100)           40800     \n",
            "                                                                 \n",
            " lstm_1 (LSTM)               (None, 20, 100)           80400     \n",
            "                                                                 \n",
            " lstm_2 (LSTM)               (None, 50)                30200     \n",
            "                                                                 \n",
            " dense (Dense)               (None, 25)                1275      \n",
            "                                                                 \n",
            " dense_1 (Dense)             (None, 5)                 130       \n",
            "                                                                 \n",
            " dense_2 (Dense)             (None, 1)                 6         \n",
            "                                                                 \n",
            "=================================================================\n",
            "Total params: 152811 (596.92 KB)\n",
            "Trainable params: 152811 (596.92 KB)\n",
            "Non-trainable params: 0 (0.00 Byte)\n",
            "_________________________________________________________________\n"
          ]
        }
      ]
    },
    {
      "cell_type": "markdown",
      "source": [
        "And then visualize the model using keras plot_model"
      ],
      "metadata": {
        "id": "6OAY5rctqP7U"
      }
    },
    {
      "cell_type": "code",
      "source": [
        "from tensorflow import keras\n",
        "\n",
        "keras.utils.plot_model(\n",
        "    model,\n",
        "    show_shapes = True,\n",
        "    show_dtype = True,\n",
        "    show_layer_activations = True\n",
        ")"
      ],
      "metadata": {
        "colab": {
          "base_uri": "https://localhost:8080/",
          "height": 969
        },
        "id": "fgWOoulzT-KI",
        "outputId": "0ad0afd0-5236-41ee-b772-61a76bf6c487"
      },
      "execution_count": null,
      "outputs": [
        {
          "output_type": "execute_result",
          "data": {
            "image/png": "[encoded data removed]",
            "text/plain": [
              "<IPython.core.display.Image object>"
            ]
          },
          "metadata": {},
          "execution_count": 25
        }
      ]
    },
    {
      "cell_type": "markdown",
      "source": [
        "##5. Train Model\n",
        "Train the model using SGD as an optimizer and Learning Rate = 0.0001.\n",
        "I'll use Huber for loss, and mae as metrics\n",
        "The data will be trained with epoch=50"
      ],
      "metadata": {
        "id": "eSRrrksAs8CS"
      }
    },
    {
      "cell_type": "code",
      "source": [
        "optimizer = tf.keras.optimizers.SGD(learning_rate=0.0001, momentum=0.9)\n",
        "model.compile(loss=tf.keras.losses.Huber(),\n",
        "              optimizer = optimizer,\n",
        "              metrics=['mae'])\n",
        "history = model.fit(X_latih, y_latih,\n",
        "                    validation_data = (X_val, y_val),\n",
        "                    epochs=50)"
      ],
      "metadata": {
        "colab": {
          "base_uri": "https://localhost:8080/"
        },
        "id": "nhhaqd--J2q1",
        "outputId": "a20080bc-9915-4088-d425-26b4017e834c"
      },
      "execution_count": null,
      "outputs": [
        {
          "output_type": "stream",
          "name": "stdout",
          "text": [
            "Epoch 1/50\n",
            "1752/1752 [==============================] - 53s 28ms/step - loss: 4.1233 - mae: 4.5913 - val_loss: 2.0620 - val_mae: 2.5046\n",
            "Epoch 2/50\n",
            "1752/1752 [==============================] - 47s 27ms/step - loss: 1.4033 - mae: 1.8247 - val_loss: 0.7141 - val_mae: 1.0990\n",
            "Epoch 3/50\n",
            "1752/1752 [==============================] - 47s 27ms/step - loss: 0.8617 - mae: 1.2435 - val_loss: 0.4810 - val_mae: 0.8287\n",
            "Epoch 4/50\n",
            "1752/1752 [==============================] - 48s 27ms/step - loss: 0.6122 - mae: 0.9636 - val_loss: 0.3688 - val_mae: 0.6914\n",
            "Epoch 5/50\n",
            "1752/1752 [==============================] - 48s 27ms/step - loss: 0.4745 - mae: 0.8086 - val_loss: 0.3718 - val_mae: 0.7109\n",
            "Epoch 6/50\n",
            "1752/1752 [==============================] - 47s 27ms/step - loss: 0.4161 - mae: 0.7426 - val_loss: 0.3131 - val_mae: 0.6261\n",
            "Epoch 7/50\n",
            "1752/1752 [==============================] - 48s 27ms/step - loss: 0.3795 - mae: 0.7012 - val_loss: 0.2941 - val_mae: 0.5998\n",
            "Epoch 8/50\n",
            "1752/1752 [==============================] - 47s 27ms/step - loss: 0.3582 - mae: 0.6783 - val_loss: 0.2765 - val_mae: 0.5769\n",
            "Epoch 9/50\n",
            "1752/1752 [==============================] - 47s 27ms/step - loss: 0.3375 - mae: 0.6538 - val_loss: 0.2894 - val_mae: 0.6002\n",
            "Epoch 10/50\n",
            "1752/1752 [==============================] - 47s 27ms/step - loss: 0.3237 - mae: 0.6374 - val_loss: 0.2618 - val_mae: 0.5606\n",
            "Epoch 11/50\n",
            "1752/1752 [==============================] - 49s 28ms/step - loss: 0.3118 - mae: 0.6238 - val_loss: 0.2659 - val_mae: 0.5691\n",
            "Epoch 12/50\n",
            "1752/1752 [==============================] - 47s 27ms/step - loss: 0.2994 - mae: 0.6089 - val_loss: 0.2524 - val_mae: 0.5464\n",
            "Epoch 13/50\n",
            "1752/1752 [==============================] - 47s 27ms/step - loss: 0.2917 - mae: 0.6005 - val_loss: 0.2492 - val_mae: 0.5420\n",
            "Epoch 14/50\n",
            "1752/1752 [==============================] - 47s 27ms/step - loss: 0.2847 - mae: 0.5925 - val_loss: 0.2433 - val_mae: 0.5367\n",
            "Epoch 15/50\n",
            "1752/1752 [==============================] - 48s 27ms/step - loss: 0.2755 - mae: 0.5810 - val_loss: 0.2959 - val_mae: 0.6248\n",
            "Epoch 16/50\n",
            "1752/1752 [==============================] - 48s 27ms/step - loss: 0.2684 - mae: 0.5715 - val_loss: 0.2549 - val_mae: 0.5547\n",
            "Epoch 17/50\n",
            "1752/1752 [==============================] - 48s 27ms/step - loss: 0.2617 - mae: 0.5629 - val_loss: 0.2363 - val_mae: 0.5313\n",
            "Epoch 18/50\n",
            "1752/1752 [==============================] - 47s 27ms/step - loss: 0.2580 - mae: 0.5591 - val_loss: 0.2306 - val_mae: 0.5216\n",
            "Epoch 19/50\n",
            "1752/1752 [==============================] - 48s 27ms/step - loss: 0.2536 - mae: 0.5541 - val_loss: 0.2391 - val_mae: 0.5328\n",
            "Epoch 20/50\n",
            "1752/1752 [==============================] - 48s 27ms/step - loss: 0.2485 - mae: 0.5467 - val_loss: 0.2356 - val_mae: 0.5307\n",
            "Epoch 21/50\n",
            "1752/1752 [==============================] - 48s 27ms/step - loss: 0.2469 - mae: 0.5451 - val_loss: 0.2323 - val_mae: 0.5271\n",
            "Epoch 22/50\n",
            "1752/1752 [==============================] - 48s 27ms/step - loss: 0.2424 - mae: 0.5389 - val_loss: 0.2536 - val_mae: 0.5621\n",
            "Epoch 23/50\n",
            "1752/1752 [==============================] - 47s 27ms/step - loss: 0.2415 - mae: 0.5384 - val_loss: 0.2474 - val_mae: 0.5517\n",
            "Epoch 24/50\n",
            "1752/1752 [==============================] - 48s 27ms/step - loss: 0.2393 - mae: 0.5351 - val_loss: 0.2339 - val_mae: 0.5269\n",
            "Epoch 25/50\n",
            "1752/1752 [==============================] - 47s 27ms/step - loss: 0.2357 - mae: 0.5297 - val_loss: 0.2493 - val_mae: 0.5527\n",
            "Epoch 26/50\n",
            "1752/1752 [==============================] - 47s 27ms/step - loss: 0.2337 - mae: 0.5266 - val_loss: 0.2251 - val_mae: 0.5149\n",
            "Epoch 27/50\n",
            "1752/1752 [==============================] - 48s 27ms/step - loss: 0.2316 - mae: 0.5237 - val_loss: 0.2329 - val_mae: 0.5344\n",
            "Epoch 28/50\n",
            "1752/1752 [==============================] - 49s 28ms/step - loss: 0.2320 - mae: 0.5242 - val_loss: 0.2329 - val_mae: 0.5265\n",
            "Epoch 29/50\n",
            "1752/1752 [==============================] - 48s 27ms/step - loss: 0.2294 - mae: 0.5208 - val_loss: 0.2340 - val_mae: 0.5306\n",
            "Epoch 30/50\n",
            "1752/1752 [==============================] - 50s 28ms/step - loss: 0.2296 - mae: 0.5216 - val_loss: 0.2586 - val_mae: 0.5681\n",
            "Epoch 31/50\n",
            "1752/1752 [==============================] - 49s 28ms/step - loss: 0.2285 - mae: 0.5195 - val_loss: 0.2207 - val_mae: 0.5099\n",
            "Epoch 32/50\n",
            "1752/1752 [==============================] - 50s 29ms/step - loss: 0.2272 - mae: 0.5172 - val_loss: 0.2168 - val_mae: 0.5035\n",
            "Epoch 33/50\n",
            "1752/1752 [==============================] - 50s 29ms/step - loss: 0.2255 - mae: 0.5151 - val_loss: 0.2209 - val_mae: 0.5066\n",
            "Epoch 34/50\n",
            "1752/1752 [==============================] - 48s 28ms/step - loss: 0.2250 - mae: 0.5144 - val_loss: 0.2545 - val_mae: 0.5559\n",
            "Epoch 35/50\n",
            "1752/1752 [==============================] - 49s 28ms/step - loss: 0.2244 - mae: 0.5135 - val_loss: 0.2198 - val_mae: 0.5061\n",
            "Epoch 36/50\n",
            "1752/1752 [==============================] - 48s 27ms/step - loss: 0.2237 - mae: 0.5122 - val_loss: 0.2190 - val_mae: 0.5074\n",
            "Epoch 37/50\n",
            "1752/1752 [==============================] - 49s 28ms/step - loss: 0.2233 - mae: 0.5116 - val_loss: 0.2259 - val_mae: 0.5190\n",
            "Epoch 38/50\n",
            "1752/1752 [==============================] - 50s 29ms/step - loss: 0.2223 - mae: 0.5099 - val_loss: 0.2191 - val_mae: 0.5091\n",
            "Epoch 39/50\n",
            "1752/1752 [==============================] - 50s 28ms/step - loss: 0.2220 - mae: 0.5093 - val_loss: 0.2140 - val_mae: 0.4960\n",
            "Epoch 40/50\n",
            "1752/1752 [==============================] - 49s 28ms/step - loss: 0.2212 - mae: 0.5085 - val_loss: 0.2137 - val_mae: 0.4950\n",
            "Epoch 41/50\n",
            "1752/1752 [==============================] - 52s 30ms/step - loss: 0.2209 - mae: 0.5074 - val_loss: 0.2138 - val_mae: 0.4962\n",
            "Epoch 42/50\n",
            "1752/1752 [==============================] - 51s 29ms/step - loss: 0.2203 - mae: 0.5071 - val_loss: 0.2154 - val_mae: 0.5006\n",
            "Epoch 43/50\n",
            "1752/1752 [==============================] - 48s 27ms/step - loss: 0.2212 - mae: 0.5086 - val_loss: 0.2161 - val_mae: 0.5047\n",
            "Epoch 44/50\n",
            "1752/1752 [==============================] - 48s 27ms/step - loss: 0.2198 - mae: 0.5059 - val_loss: 0.2147 - val_mae: 0.4972\n",
            "Epoch 45/50\n",
            "1752/1752 [==============================] - 47s 27ms/step - loss: 0.2206 - mae: 0.5073 - val_loss: 0.2175 - val_mae: 0.5039\n",
            "Epoch 46/50\n",
            "1752/1752 [==============================] - 47s 27ms/step - loss: 0.2199 - mae: 0.5061 - val_loss: 0.2417 - val_mae: 0.5366\n",
            "Epoch 47/50\n",
            "1752/1752 [==============================] - 48s 27ms/step - loss: 0.2190 - mae: 0.5043 - val_loss: 0.2121 - val_mae: 0.4952\n",
            "Epoch 48/50\n",
            "1752/1752 [==============================] - 48s 28ms/step - loss: 0.2184 - mae: 0.5036 - val_loss: 0.2218 - val_mae: 0.5155\n",
            "Epoch 49/50\n",
            "1752/1752 [==============================] - 47s 27ms/step - loss: 0.2190 - mae: 0.5050 - val_loss: 0.2261 - val_mae: 0.5189\n",
            "Epoch 50/50\n",
            "1752/1752 [==============================] - 48s 27ms/step - loss: 0.2182 - mae: 0.5035 - val_loss: 0.2131 - val_mae: 0.4976\n"
          ]
        }
      ]
    },
    {
      "cell_type": "markdown",
      "source": [
        "From the trained result, mae is 0,5035 and val_mae is 0,4976"
      ],
      "metadata": {
        "id": "rci__MS3tlH6"
      }
    },
    {
      "cell_type": "markdown",
      "source": [
        "##6. Plotting Mae\n",
        "\n",
        "Last, I'll be plotting mae and val_mae using Pyplot"
      ],
      "metadata": {
        "id": "IWENHP91tzLo"
      }
    },
    {
      "cell_type": "code",
      "source": [
        "plt.plot(history.history['mae'])\n",
        "plt.plot(history.history['val_mae'])\n",
        "plt.title('MAE Model')\n",
        "plt.ylabel('mae')\n",
        "plt.xlabel('epoch')\n",
        "plt.legend(['train', 'val'], loc='upper left')\n",
        "plt.show()"
      ],
      "metadata": {
        "colab": {
          "base_uri": "https://localhost:8080/",
          "height": 472
        },
        "id": "ovWAGA_zVfk2",
        "outputId": "81732d56-adc7-4c78-fb7d-a1ebcee71d94"
      },
      "execution_count": null,
      "outputs": [
        {
          "output_type": "display_data",
          "data": {
            "text/plain": [
              "<Figure size 640x480 with 1 Axes>"
            ],
            "image/png": "[encoded data removed]"
          },
          "metadata": {}
        }
      ]
    }
  ],
  "metadata": {
    "colab": {
      "provenance": [],
      "gpuType": "T4"
    },
    "kernelspec": {
      "display_name": "Python 3",
      "name": "python3"
    },
    "language_info": {
      "name": "python"
    },
    "accelerator": "GPU"
  },
  "nbformat": 4,
  "nbformat_minor": 0
}