{
  "nbformat": 4,
  "nbformat_minor": 0,
  "metadata": {
    "colab": {
      "provenance": [],
      "gpuType": "T4"
    },
    "kernelspec": {
      "name": "python3",
      "display_name": "Python 3"
    },
    "language_info": {
      "name": "python"
    },
    "accelerator": "GPU"
  },
  "cells": [
    {
      "cell_type": "markdown",
      "source": [
        "#Make NLP Model with TensorFlow\n",
        "\n",
        "In this project, I'll try to make MOdel for NLP using Tensorflow and LSTM (Long Short Term Memories)\n",
        "\n",
        "The Datasets that I used for this project is \"bbc-text.csv\" from Kaggle"
      ],
      "metadata": {
        "id": "JBy9Q8Cn2wsu"
      }
    },
    {
      "cell_type": "markdown",
      "source": [
        "##1. Import Libbraries\n",
        "\n",
        "Import all libbraries used for this project"
      ],
      "metadata": {
        "id": "uw-5UQvgeyOJ"
      }
    },
    {
      "cell_type": "code",
      "source": [
        "import pandas as pd\n",
        "import nltk\n",
        "import re\n",
        "from nltk.corpus import stopwords\n",
        "from nltk.tokenize import word_tokenize\n",
        "import tensorflow as tf\n",
        "from keras.callbacks import EarlyStopping, ReduceLROnPlateau\n",
        "from sklearn.model_selection import train_test_split\n",
        "from tensorflow.keras.preprocessing.text import Tokenizer\n",
        "from tensorflow.keras.preprocessing.sequence import pad_sequences\n",
        "import matplotlib.pyplot as plt"
      ],
      "metadata": {
        "id": "HiM-BcVCexti"
      },
      "execution_count": null,
      "outputs": []
    },
    {
      "cell_type": "markdown",
      "source": [
        "## 2. Import Dataset\n",
        "\n",
        "First, I'll upload the dataset and make a Dataframe from that dataset using Pandas Dataframe."
      ],
      "metadata": {
        "id": "_9tRMWPwTcjD"
      }
    },
    {
      "cell_type": "code",
      "source": [
        "! pip install -q kaggle"
      ],
      "metadata": {
        "id": "9Ie9bWPvAehY"
      },
      "execution_count": null,
      "outputs": []
    },
    {
      "cell_type": "code",
      "source": [
        "from google.colab import files\n",
        "\n",
        "files.upload()"
      ],
      "metadata": {
        "colab": {
          "base_uri": "https://localhost:8080/",
          "height": 91
        },
        "id": "0OWtLXNWAfIL",
        "outputId": "a8aca53d-c5c8-45a2-e5b1-74799d3ba39c"
      },
      "execution_count": null,
      "outputs": [
        {
          "output_type": "display_data",
          "data": {
            "text/plain": [
              "<IPython.core.display.HTML object>"
            ],
            "text/html": [
              "\n",
              "     <input type=\"file\" id=\"files-5a942225-4d76-487a-aee1-2917aafe1671\" name=\"files[]\" multiple disabled\n",
              "        style=\"border:none\" />\n",
              "     <output id=\"result-5a942225-4d76-487a-aee1-2917aafe1671\">\n",
              "      Upload widget is only available when the cell has been executed in the\n",
              "      current browser session. Please rerun this cell to enable.\n",
              "      </output>\n",
              "      <script>// Copyright 2017 Google LLC\n",
              "//\n",
              "// Licensed under the Apache License, Version 2.0 (the \"License\");\n",
              "// you may not use this file except in compliance with the License.\n",
              "// You may obtain a copy of the License at\n",
              "//\n",
              "//      http://www.apache.org/licenses/LICENSE-2.0\n",
              "//\n",
              "// Unless required by applicable law or agreed to in writing, software\n",
              "// distributed under the License is distributed on an \"AS IS\" BASIS,\n",
              "// WITHOUT WARRANTIES OR CONDITIONS OF ANY KIND, either express or implied.\n",
              "// See the License for the specific language governing permissions and\n",
              "// limitations under the License.\n",
              "\n",
              "/**\n",
              " * @fileoverview Helpers for google.colab Python module.\n",
              " */\n",
              "(function(scope) {\n",
              "function span(text, styleAttributes = {}) {\n",
              "  const element = document.createElement('span');\n",
              "  element.textContent = text;\n",
              "  for (const key of Object.keys(styleAttributes)) {\n",
              "    element.style[key] = styleAttributes[key];\n",
              "  }\n",
              "  return element;\n",
              "}\n",
              "\n",
              "// Max number of bytes which will be uploaded at a time.\n",
              "const MAX_PAYLOAD_SIZE = 100 * 1024;\n",
              "\n",
              "function _uploadFiles(inputId, outputId) {\n",
              "  const steps = uploadFilesStep(inputId, outputId);\n",
              "  const outputElement = document.getElementById(outputId);\n",
              "  // Cache steps on the outputElement to make it available for the next call\n",
              "  // to uploadFilesContinue from Python.\n",
              "  outputElement.steps = steps;\n",
              "\n",
              "  return _uploadFilesContinue(outputId);\n",
              "}\n",
              "\n",
              "// This is roughly an async generator (not supported in the browser yet),\n",
              "// where there are multiple asynchronous steps and the Python side is going\n",
              "// to poll for completion of each step.\n",
              "// This uses a Promise to block the python side on completion of each step,\n",
              "// then passes the result of the previous step as the input to the next step.\n",
              "function _uploadFilesContinue(outputId) {\n",
              "  const outputElement = document.getElementById(outputId);\n",
              "  const steps = outputElement.steps;\n",
              "\n",
              "  const next = steps.next(outputElement.lastPromiseValue);\n",
              "  return Promise.resolve(next.value.promise).then((value) => {\n",
              "    // Cache the last promise value to make it available to the next\n",
              "    // step of the generator.\n",
              "    outputElement.lastPromiseValue = value;\n",
              "    return next.value.response;\n",
              "  });\n",
              "}\n",
              "\n",
              "/**\n",
              " * Generator function which is called between each async step of the upload\n",
              " * process.\n",
              " * @param {string} inputId Element ID of the input file picker element.\n",
              " * @param {string} outputId Element ID of the output display.\n",
              " * @return {!Iterable<!Object>} Iterable of next steps.\n",
              " */\n",
              "function* uploadFilesStep(inputId, outputId) {\n",
              "  const inputElement = document.getElementById(inputId);\n",
              "  inputElement.disabled = false;\n",
              "\n",
              "  const outputElement = document.getElementById(outputId);\n",
              "  outputElement.innerHTML = '';\n",
              "\n",
              "  const pickedPromise = new Promise((resolve) => {\n",
              "    inputElement.addEventListener('change', (e) => {\n",
              "      resolve(e.target.files);\n",
              "    });\n",
              "  });\n",
              "\n",
              "  const cancel = document.createElement('button');\n",
              "  inputElement.parentElement.appendChild(cancel);\n",
              "  cancel.textContent = 'Cancel upload';\n",
              "  const cancelPromise = new Promise((resolve) => {\n",
              "    cancel.onclick = () => {\n",
              "      resolve(null);\n",
              "    };\n",
              "  });\n",
              "\n",
              "  // Wait for the user to pick the files.\n",
              "  const files = yield {\n",
              "    promise: Promise.race([pickedPromise, cancelPromise]),\n",
              "    response: {\n",
              "      action: 'starting',\n",
              "    }\n",
              "  };\n",
              "\n",
              "  cancel.remove();\n",
              "\n",
              "  // Disable the input element since further picks are not allowed.\n",
              "  inputElement.disabled = true;\n",
              "\n",
              "  if (!files) {\n",
              "    return {\n",
              "      response: {\n",
              "        action: 'complete',\n",
              "      }\n",
              "    };\n",
              "  }\n",
              "\n",
              "  for (const file of files) {\n",
              "    const li = document.createElement('li');\n",
              "    li.append(span(file.name, {fontWeight: 'bold'}));\n",
              "    li.append(span(\n",
              "        `(${file.type || 'n/a'}) - ${file.size} bytes, ` +\n",
              "        `last modified: ${\n",
              "            file.lastModifiedDate ? file.lastModifiedDate.toLocaleDateString() :\n",
              "                                    'n/a'} - `));\n",
              "    const percent = span('0% done');\n",
              "    li.appendChild(percent);\n",
              "\n",
              "    outputElement.appendChild(li);\n",
              "\n",
              "    const fileDataPromise = new Promise((resolve) => {\n",
              "      const reader = new FileReader();\n",
              "      reader.onload = (e) => {\n",
              "        resolve(e.target.result);\n",
              "      };\n",
              "      reader.readAsArrayBuffer(file);\n",
              "    });\n",
              "    // Wait for the data to be ready.\n",
              "    let fileData = yield {\n",
              "      promise: fileDataPromise,\n",
              "      response: {\n",
              "        action: 'continue',\n",
              "      }\n",
              "    };\n",
              "\n",
              "    // Use a chunked sending to avoid message size limits. See b/62115660.\n",
              "    let position = 0;\n",
              "    do {\n",
              "      const length = Math.min(fileData.byteLength - position, MAX_PAYLOAD_SIZE);\n",
              "      const chunk = new Uint8Array(fileData, position, length);\n",
              "      position += length;\n",
              "\n",
              "      const base64 = btoa(String.fromCharCode.apply(null, chunk));\n",
              "      yield {\n",
              "        response: {\n",
              "          action: 'append',\n",
              "          file: file.name,\n",
              "          data: base64,\n",
              "        },\n",
              "      };\n",
              "\n",
              "      let percentDone = fileData.byteLength === 0 ?\n",
              "          100 :\n",
              "          Math.round((position / fileData.byteLength) * 100);\n",
              "      percent.textContent = `${percentDone}% done`;\n",
              "\n",
              "    } while (position < fileData.byteLength);\n",
              "  }\n",
              "\n",
              "  // All done.\n",
              "  yield {\n",
              "    response: {\n",
              "      action: 'complete',\n",
              "    }\n",
              "  };\n",
              "}\n",
              "\n",
              "scope.google = scope.google || {};\n",
              "scope.google.colab = scope.google.colab || {};\n",
              "scope.google.colab._files = {\n",
              "  _uploadFiles,\n",
              "  _uploadFilesContinue,\n",
              "};\n",
              "})(self);\n",
              "</script> "
            ]
          },
          "metadata": {}
        },
        {
          "output_type": "stream",
          "name": "stdout",
          "text": [
            "Saving kaggle.json to kaggle.json\n"
          ]
        },
        {
          "output_type": "execute_result",
          "data": {
            "text/plain": [
              "{'kaggle.json': b'{\"username\":\"rizki1994\",\"key\":\"e2c181da4daa4a83ca5c75260be052ea\"}'}"
            ]
          },
          "metadata": {},
          "execution_count": 4
        }
      ]
    },
    {
      "cell_type": "code",
      "source": [
        "! mkdir ~/.kaggle\n",
        "\n",
        "! cp kaggle.json ~/.kaggle/"
      ],
      "metadata": {
        "id": "bTPZmj1qAg9m"
      },
      "execution_count": null,
      "outputs": []
    },
    {
      "cell_type": "code",
      "source": [
        "! chmod 600 ~/.kaggle/kaggle.json"
      ],
      "metadata": {
        "id": "bqJfP-UAAi8h"
      },
      "execution_count": null,
      "outputs": []
    },
    {
      "cell_type": "code",
      "source": [
        "!kaggle datasets download -d yufengdev/bbc-fulltext-and-category"
      ],
      "metadata": {
        "colab": {
          "base_uri": "https://localhost:8080/"
        },
        "id": "4OaR1IRDAlUq",
        "outputId": "467b6975-e684-4ff1-f120-3c3d7c71186b"
      },
      "execution_count": null,
      "outputs": [
        {
          "output_type": "stream",
          "name": "stdout",
          "text": [
            "Downloading bbc-fulltext-and-category.zip to /content\n",
            "\r  0% 0.00/1.83M [00:00<?, ?B/s]\n",
            "\r100% 1.83M/1.83M [00:00<00:00, 143MB/s]\n"
          ]
        }
      ]
    },
    {
      "cell_type": "code",
      "source": [
        "import os\n",
        "import zipfile\n",
        "local_zip= '/content/bbc-fulltext-and-category.zip'\n",
        "zip_ref = zipfile.ZipFile(local_zip, 'r')\n",
        "zip_ref.extractall('/content')\n",
        "zip_ref.close()"
      ],
      "metadata": {
        "id": "vykKUR_mArMn"
      },
      "execution_count": null,
      "outputs": []
    },
    {
      "cell_type": "code",
      "execution_count": null,
      "metadata": {
        "colab": {
          "base_uri": "https://localhost:8080/",
          "height": 206
        },
        "id": "okyW3c8rbhZk",
        "outputId": "417783d2-48a1-4fc4-c414-d2b2c0eb1cd4"
      },
      "outputs": [
        {
          "output_type": "execute_result",
          "data": {
            "text/plain": [
              "        category                                               text\n",
              "0           tech  tv future in the hands of viewers with home th...\n",
              "1       business  worldcom boss  left books alone  former worldc...\n",
              "2          sport  tigers wary of farrell  gamble  leicester say ...\n",
              "3          sport  yeading face newcastle in fa cup premiership s...\n",
              "4  entertainment  ocean s twelve raids box office ocean s twelve..."
            ],
            "text/html": [
              "\n",
              "  <div id=\"df-46a0e55b-1867-481c-b689-ba01d285aa23\" class=\"colab-df-container\">\n",
              "    <div>\n",
              "<style scoped>\n",
              "    .dataframe tbody tr th:only-of-type {\n",
              "        vertical-align: middle;\n",
              "    }\n",
              "\n",
              "    .dataframe tbody tr th {\n",
              "        vertical-align: top;\n",
              "    }\n",
              "\n",
              "    .dataframe thead th {\n",
              "        text-align: right;\n",
              "    }\n",
              "</style>\n",
              "<table border=\"1\" class=\"dataframe\">\n",
              "  <thead>\n",
              "    <tr style=\"text-align: right;\">\n",
              "      <th></th>\n",
              "      <th>category</th>\n",
              "      <th>text</th>\n",
              "    </tr>\n",
              "  </thead>\n",
              "  <tbody>\n",
              "    <tr>\n",
              "      <th>0</th>\n",
              "      <td>tech</td>\n",
              "      <td>tv future in the hands of viewers with home th...</td>\n",
              "    </tr>\n",
              "    <tr>\n",
              "      <th>1</th>\n",
              "      <td>business</td>\n",
              "      <td>worldcom boss  left books alone  former worldc...</td>\n",
              "    </tr>\n",
              "    <tr>\n",
              "      <th>2</th>\n",
              "      <td>sport</td>\n",
              "      <td>tigers wary of farrell  gamble  leicester say ...</td>\n",
              "    </tr>\n",
              "    <tr>\n",
              "      <th>3</th>\n",
              "      <td>sport</td>\n",
              "      <td>yeading face newcastle in fa cup premiership s...</td>\n",
              "    </tr>\n",
              "    <tr>\n",
              "      <th>4</th>\n",
              "      <td>entertainment</td>\n",
              "      <td>ocean s twelve raids box office ocean s twelve...</td>\n",
              "    </tr>\n",
              "  </tbody>\n",
              "</table>\n",
              "</div>\n",
              "    <div class=\"colab-df-buttons\">\n",
              "\n",
              "  <div class=\"colab-df-container\">\n",
              "    <button class=\"colab-df-convert\" onclick=\"convertToInteractive('df-46a0e55b-1867-481c-b689-ba01d285aa23')\"\n",
              "            title=\"Convert this dataframe to an interactive table.\"\n",
              "            style=\"display:none;\">\n",
              "\n",
              "  <svg xmlns=\"http://www.w3.org/2000/svg\" height=\"24px\" viewBox=\"0 -960 960 960\">\n",
              "    <path d=\"M120-120v-720h720v720H120Zm60-500h600v-160H180v160Zm220 220h160v-160H400v160Zm0 220h160v-160H400v160ZM180-400h160v-160H180v160Zm440 0h160v-160H620v160ZM180-180h160v-160H180v160Zm440 0h160v-160H620v160Z\"/>\n",
              "  </svg>\n",
              "    </button>\n",
              "\n",
              "  <style>\n",
              "    .colab-df-container {\n",
              "      display:flex;\n",
              "      gap: 12px;\n",
              "    }\n",
              "\n",
              "    .colab-df-convert {\n",
              "      background-color: #E8F0FE;\n",
              "      border: none;\n",
              "      border-radius: 50%;\n",
              "      cursor: pointer;\n",
              "      display: none;\n",
              "      fill: #1967D2;\n",
              "      height: 32px;\n",
              "      padding: 0 0 0 0;\n",
              "      width: 32px;\n",
              "    }\n",
              "\n",
              "    .colab-df-convert:hover {\n",
              "      background-color: #E2EBFA;\n",
              "      box-shadow: 0px 1px 2px rgba(60, 64, 67, 0.3), 0px 1px 3px 1px rgba(60, 64, 67, 0.15);\n",
              "      fill: #174EA6;\n",
              "    }\n",
              "\n",
              "    .colab-df-buttons div {\n",
              "      margin-bottom: 4px;\n",
              "    }\n",
              "\n",
              "    [theme=dark] .colab-df-convert {\n",
              "      background-color: #3B4455;\n",
              "      fill: #D2E3FC;\n",
              "    }\n",
              "\n",
              "    [theme=dark] .colab-df-convert:hover {\n",
              "      background-color: #434B5C;\n",
              "      box-shadow: 0px 1px 3px 1px rgba(0, 0, 0, 0.15);\n",
              "      filter: drop-shadow(0px 1px 2px rgba(0, 0, 0, 0.3));\n",
              "      fill: #FFFFFF;\n",
              "    }\n",
              "  </style>\n",
              "\n",
              "    <script>\n",
              "      const buttonEl =\n",
              "        document.querySelector('#df-46a0e55b-1867-481c-b689-ba01d285aa23 button.colab-df-convert');\n",
              "      buttonEl.style.display =\n",
              "        google.colab.kernel.accessAllowed ? 'block' : 'none';\n",
              "\n",
              "      async function convertToInteractive(key) {\n",
              "        const element = document.querySelector('#df-46a0e55b-1867-481c-b689-ba01d285aa23');\n",
              "        const dataTable =\n",
              "          await google.colab.kernel.invokeFunction('convertToInteractive',\n",
              "                                                    [key], {});\n",
              "        if (!dataTable) return;\n",
              "\n",
              "        const docLinkHtml = 'Like what you see? Visit the ' +\n",
              "          '<a target=\"_blank\" href=https://colab.research.google.com/notebooks/data_table.ipynb>data table notebook</a>'\n",
              "          + ' to learn more about interactive tables.';\n",
              "        element.innerHTML = '';\n",
              "        dataTable['output_type'] = 'display_data';\n",
              "        await google.colab.output.renderOutput(dataTable, element);\n",
              "        const docLink = document.createElement('div');\n",
              "        docLink.innerHTML = docLinkHtml;\n",
              "        element.appendChild(docLink);\n",
              "      }\n",
              "    </script>\n",
              "  </div>\n",
              "\n",
              "\n",
              "<div id=\"df-c8ab71be-ccee-4cfe-974e-ea0fd7f49d6a\">\n",
              "  <button class=\"colab-df-quickchart\" onclick=\"quickchart('df-c8ab71be-ccee-4cfe-974e-ea0fd7f49d6a')\"\n",
              "            title=\"Suggest charts\"\n",
              "            style=\"display:none;\">\n",
              "\n",
              "<svg xmlns=\"http://www.w3.org/2000/svg\" height=\"24px\"viewBox=\"0 0 24 24\"\n",
              "     width=\"24px\">\n",
              "    <g>\n",
              "        <path d=\"M19 3H5c-1.1 0-2 .9-2 2v14c0 1.1.9 2 2 2h14c1.1 0 2-.9 2-2V5c0-1.1-.9-2-2-2zM9 17H7v-7h2v7zm4 0h-2V7h2v10zm4 0h-2v-4h2v4z\"/>\n",
              "    </g>\n",
              "</svg>\n",
              "  </button>\n",
              "\n",
              "<style>\n",
              "  .colab-df-quickchart {\n",
              "      --bg-color: #E8F0FE;\n",
              "      --fill-color: #1967D2;\n",
              "      --hover-bg-color: #E2EBFA;\n",
              "      --hover-fill-color: #174EA6;\n",
              "      --disabled-fill-color: #AAA;\n",
              "      --disabled-bg-color: #DDD;\n",
              "  }\n",
              "\n",
              "  [theme=dark] .colab-df-quickchart {\n",
              "      --bg-color: #3B4455;\n",
              "      --fill-color: #D2E3FC;\n",
              "      --hover-bg-color: #434B5C;\n",
              "      --hover-fill-color: #FFFFFF;\n",
              "      --disabled-bg-color: #3B4455;\n",
              "      --disabled-fill-color: #666;\n",
              "  }\n",
              "\n",
              "  .colab-df-quickchart {\n",
              "    background-color: var(--bg-color);\n",
              "    border: none;\n",
              "    border-radius: 50%;\n",
              "    cursor: pointer;\n",
              "    display: none;\n",
              "    fill: var(--fill-color);\n",
              "    height: 32px;\n",
              "    padding: 0;\n",
              "    width: 32px;\n",
              "  }\n",
              "\n",
              "  .colab-df-quickchart:hover {\n",
              "    background-color: var(--hover-bg-color);\n",
              "    box-shadow: 0 1px 2px rgba(60, 64, 67, 0.3), 0 1px 3px 1px rgba(60, 64, 67, 0.15);\n",
              "    fill: var(--button-hover-fill-color);\n",
              "  }\n",
              "\n",
              "  .colab-df-quickchart-complete:disabled,\n",
              "  .colab-df-quickchart-complete:disabled:hover {\n",
              "    background-color: var(--disabled-bg-color);\n",
              "    fill: var(--disabled-fill-color);\n",
              "    box-shadow: none;\n",
              "  }\n",
              "\n",
              "  .colab-df-spinner {\n",
              "    border: 2px solid var(--fill-color);\n",
              "    border-color: transparent;\n",
              "    border-bottom-color: var(--fill-color);\n",
              "    animation:\n",
              "      spin 1s steps(1) infinite;\n",
              "  }\n",
              "\n",
              "  @keyframes spin {\n",
              "    0% {\n",
              "      border-color: transparent;\n",
              "      border-bottom-color: var(--fill-color);\n",
              "      border-left-color: var(--fill-color);\n",
              "    }\n",
              "    20% {\n",
              "      border-color: transparent;\n",
              "      border-left-color: var(--fill-color);\n",
              "      border-top-color: var(--fill-color);\n",
              "    }\n",
              "    30% {\n",
              "      border-color: transparent;\n",
              "      border-left-color: var(--fill-color);\n",
              "      border-top-color: var(--fill-color);\n",
              "      border-right-color: var(--fill-color);\n",
              "    }\n",
              "    40% {\n",
              "      border-color: transparent;\n",
              "      border-right-color: var(--fill-color);\n",
              "      border-top-color: var(--fill-color);\n",
              "    }\n",
              "    60% {\n",
              "      border-color: transparent;\n",
              "      border-right-color: var(--fill-color);\n",
              "    }\n",
              "    80% {\n",
              "      border-color: transparent;\n",
              "      border-right-color: var(--fill-color);\n",
              "      border-bottom-color: var(--fill-color);\n",
              "    }\n",
              "    90% {\n",
              "      border-color: transparent;\n",
              "      border-bottom-color: var(--fill-color);\n",
              "    }\n",
              "  }\n",
              "</style>\n",
              "\n",
              "  <script>\n",
              "    async function quickchart(key) {\n",
              "      const quickchartButtonEl =\n",
              "        document.querySelector('#' + key + ' button');\n",
              "      quickchartButtonEl.disabled = true;  // To prevent multiple clicks.\n",
              "      quickchartButtonEl.classList.add('colab-df-spinner');\n",
              "      try {\n",
              "        const charts = await google.colab.kernel.invokeFunction(\n",
              "            'suggestCharts', [key], {});\n",
              "      } catch (error) {\n",
              "        console.error('Error during call to suggestCharts:', error);\n",
              "      }\n",
              "      quickchartButtonEl.classList.remove('colab-df-spinner');\n",
              "      quickchartButtonEl.classList.add('colab-df-quickchart-complete');\n",
              "    }\n",
              "    (() => {\n",
              "      let quickchartButtonEl =\n",
              "        document.querySelector('#df-c8ab71be-ccee-4cfe-974e-ea0fd7f49d6a button');\n",
              "      quickchartButtonEl.style.display =\n",
              "        google.colab.kernel.accessAllowed ? 'block' : 'none';\n",
              "    })();\n",
              "  </script>\n",
              "</div>\n",
              "    </div>\n",
              "  </div>\n"
            ],
            "application/vnd.google.colaboratory.intrinsic+json": {
              "type": "dataframe",
              "variable_name": "df",
              "summary": "{\n  \"name\": \"df\",\n  \"rows\": 2225,\n  \"fields\": [\n    {\n      \"column\": \"category\",\n      \"properties\": {\n        \"dtype\": \"category\",\n        \"num_unique_values\": 5,\n        \"samples\": [\n          \"business\",\n          \"politics\",\n          \"sport\"\n        ],\n        \"semantic_type\": \"\",\n        \"description\": \"\"\n      }\n    },\n    {\n      \"column\": \"text\",\n      \"properties\": {\n        \"dtype\": \"string\",\n        \"num_unique_values\": 2126,\n        \"samples\": [\n          \"plan to give elderly care control elderly and disabled people would choose how their own budget for personal care was spent and organised under government plans.  ministers say elderly and disabled people themselves  not social workers  should be able to decide on their care and stay in their own homes. they also plan a supremo for adult services in each english area to get different agencies working together. but the government shunned opponents  calls for free long-term care.  there are 1.7m people needing care in england and ministers suggest the number could quadruple by 2050. monday s consultation paper on social care for adults in england is aimed at ending a system which generates dependency. health minister stephen ladyman said:  this document is the antithesis of the nanny state.   it s about taking power away from the state and giving it to individuals and saying that we will help you make these decisions but we are not going to make them for you any more.  the government has already allowed local councils to give people money so they can pay for their services directly but take-up of the scheme has been  disappointing .  ministers say the new plans would make direct payments simpler and try to counter reluctance in some local councils to use the payments. they also want to set up a new  half-way house  where social workers tell people how much money is available for their care and help them choose how to spend that  individual budget . the scheme will be funded on existing budgets set until 2008. but mr ladyman said the plans could deliver savings in some areas  such as freeing up nhs beds and preventing illnesses. he ruled out free personal care in england - which is on offer in scotland and wales  saying it was  unsustainable .  david rogers  from the local government association  said agencies were working together on the kind of innovation proposed by the government. and tony hunter  president of the association of directors of social services  said the plans could improve dignity and well-being for thousands of people. but age concern argued social care was chronically under-funded and older people were being offered choice in principle  but not in practice. its director general  gordon lishman  said:  direct payments will not work if there are no services for people to choose from locally.   the tories say people who pay for three years  long-term care directly or through insurance should be guaranteed free care for the rest of their lives. tory spokesman simon burns said more than 80 000 long term care places had been lost since 1997.  after eight years of persistent change  dogmatic enforcement of regulation  and overbearing government initiatives - we need action  not a vision   said mr burns. the lib dems say they would fund free personal care by a new 50% tax rate on incomes over \\u00a3100 000. health spokesman paul burstow said:  promoting independence sounds good and helping people to live in their own homes is a goal we share.  but the risk is that independence can turn into isolation if the right support and care is not available.\",\n          \"beer giant swallows russian firm brewing giant inbev has agreed to buy alfa-eco s stake in sun interbrew  russia s second-largest brewer  for up to 259.7m euros ($353.3m; \\u00a3183.75m).  alfa-eco  the venture capital arm of russian conglomerate alfa group  has a one-fifth stake in sun interbrew. the deal gives inbev  the world s biggest beermaker  near-total control over the russian brewer. inbev bought out another partner in august 2004. inbev brands include bass  stella artois  hoegaarden and staropramen. it employs 77 000 people  running operations in over 30 countries across the americas  europe and asia pacific.  the leuven-based brewery said it would own 97.3% of the voting shares and 98.8% of the non-voting shares of sun interbrew. the deal is expected to be completed in the first quarter of 2005. inbev was formed in august 2004 when belgium s interbrew bought brazilian brewer ambev. sun interbrew  which employs 8 000 staff  owns breweries in eight russian cities - klin  ivanovo  saransk  kursk  volzhsky  omsk  perm and novocheboksarsk. there are also three breweries in ukraine  in the cities of chernigov  nikolaev and kharkov.\",\n          \"athens memories soar above lows well  it s goodbye to another olympic year and as usual there were plenty of highs and lows in athens.  obviously  there s no getting away from the differing fortunes of kelly holmes and paula radcliffe. but i want to remind you of a few more events that made 2004 another year to remember - or forget - for athletics.      one of my favourite olympic moments was kelly s success in the 800m.  winning that race was the key to her success because if she won that then the 1500m would be a bit of a formality. kelly had been full of  should i  shouldn t i   thoughts about going for the double in athens. i thought why wouldn t you do the 800m  it s your best event  it was such good fun to commentate on her 1500m and it was nice to be able to be part of her athens story.      the victory for the british men s 4x100m relay team was a bit of a surprise but a great climax to the games. i think the four of them - jason gardener  darren campbell  marlon devonish and mark lewis-francis - knew deep down that it was their best chance of a medal. the lads had run poorly in the individual sprints so maybe they did lift their game when they knew something was really at stake.      hicham el guerrouj s olympic double is a much bigger achievement than kelly s on a global scale.  he was the first man since for 80 years to win both the 1500m and 5 000m titles. as soon as he had added the 5 000m crown and i had finished commentating  i jumped up  ran down the stairs  pushed everyone out the way and just gave him a big hug. he is one of the few african runners who has embraced the tradition of the mile and he loves to hear all the roger bannister stories. hicham is someone i enjoy having a bit of time with  even though my french and his english are not very good.      what happened to paula in athens this year is the obvious low on a personal level and for the expectations of the nation as well. there were a set of circumstances around athens that conspired to produce a very dramatic ending which i think has been greatly misunderstood. dropping out of the marathon was the right thing to do but starting in the 10 000m five days later was not wise. that was her heart and not her head reacting. paula had a lot of little things going wrong in her preparation and on the day.  things like niggling injuries  not being able to do all her running sessions and feeling the pressure of the race looming ahead of her. i think she came to the start line in athens physically and emotionally drained. and if even the smallest thing doesn t feel right when you are preparing to race a marathon  10 miles down the road it will hit you like a brick wall. the positive thing to take from paula s olympics it that she will have learned a lot from it and so will a lot of people - including me.      purely as a race  paula s victory in the new york marathon has to go down as one of the most thrilling. it was so nip-and-tuck between her and kenya s susan chepkemei and you don t usually get that kind of excitement in marathons. it was also a real delight for all athletics fans because  to use one of my favourite words  paula showed real  bouncebackability . and it was a bit of a rarity for me too because i genuinely did not have an inkling how the race was going to pan out.      kelly and the 4x100m boys  victories papered over the cracks in the general performance of the british team. we should be concerned that we re not producing enough people who are capable of reaching finals at senior level.  the only individual men s finalist on the track was michael east in the 1500m. i am beginning to look down and wonder where are the new breed  and that s where things begin to look even gloomier for british athletics as we did not win any medals at the world junior championships in italy. dani barnes came fourth in the 1500m and she was the highest finisher for team gb. the thing is if we don t have athletes getting into the finals at junior level then it really doesn t look good for the beijing olympics and beyond.      i tell you what i really enjoyed this year  benita johnson winning the world cross country championships back in march. in the absence of paula  we tend to think of the event as something of an african preserve. so to have an australian come up and deliver such a surprise was something special.      to be honest  i m getting bored with all the drug scandals  especially balco. i just wish the whole thing would come to a head so we can move on.  having said that  i m always pleased when drugs cheats are caught because it shows the sport is standing up to it and not turning a blind eye anymore. and one of the positive things to come out of balco is people are starting to blow the whistle. we need more people to come forward and help the authorities kick out the cheats. as regards the case against greek sprinters kostas kenteris and katerina thanou  well suspicions have been hanging over kenteris for a while. the bottom line is we cannot keep letting drugs damage the sport because if we do then it stops everyone enjoying it.\"\n        ],\n        \"semantic_type\": \"\",\n        \"description\": \"\"\n      }\n    }\n  ]\n}"
            }
          },
          "metadata": {},
          "execution_count": 9
        }
      ],
      "source": [
        "df = pd.read_csv('bbc-text.csv')\n",
        "df.head()"
      ]
    },
    {
      "cell_type": "code",
      "source": [
        "df.info()"
      ],
      "metadata": {
        "id": "7rLaZHlj277m",
        "colab": {
          "base_uri": "https://localhost:8080/"
        },
        "outputId": "9c3fed6a-ee40-4788-8663-1341acd1641c"
      },
      "execution_count": null,
      "outputs": [
        {
          "output_type": "stream",
          "name": "stdout",
          "text": [
            "<class 'pandas.core.frame.DataFrame'>\n",
            "RangeIndex: 2225 entries, 0 to 2224\n",
            "Data columns (total 2 columns):\n",
            " #   Column    Non-Null Count  Dtype \n",
            "---  ------    --------------  ----- \n",
            " 0   category  2225 non-null   object\n",
            " 1   text      2225 non-null   object\n",
            "dtypes: object(2)\n",
            "memory usage: 34.9+ KB\n"
          ]
        }
      ]
    },
    {
      "cell_type": "markdown",
      "source": [
        "From the info, there are 2225 row of data from this dataset."
      ],
      "metadata": {
        "id": "0i9y7zMCT1uw"
      }
    },
    {
      "cell_type": "markdown",
      "source": [
        "##3. Cleaning Dataset\n",
        "\n",
        "To improve my model's accuracy, I'll eliminate unnecessary symbols, stopwords, and unwanted string from the dataset using nltk."
      ],
      "metadata": {
        "id": "rrw-tdA8T-xk"
      }
    },
    {
      "cell_type": "code",
      "source": [
        "df['text'][11]"
      ],
      "metadata": {
        "id": "RiN66IBccRO4",
        "colab": {
          "base_uri": "https://localhost:8080/",
          "height": 145
        },
        "outputId": "ffbe16fa-cbab-4b05-9a85-6f9d11f64de2"
      },
      "execution_count": null,
      "outputs": [
        {
          "output_type": "execute_result",
          "data": {
            "text/plain": [
              "'virgin blue shares plummet 20% shares in australian budget airline virgin blue plunged 20% after it warned of a steep fall in full year profits.  virgin blue said profits after tax for the year to march would be between 10% to 15% lower than the previous year.  sluggish demand reported previously for november and now december 2004 continues   said virgin blue chief executive brett godfrey. virgin blue  which is 25% owned by richard branson  has been struggling to fend off pressure from rival jetstar. it cut its full year passenger number forecast by  approximately 2.5% . virgin blue reported a 22% fall in first quarter profits in august 2004 due to tough competition. in november  first half profits were down due to slack demand and rising fuel costs. virgin blue was launched four years ago and now has roughly one third of australia s domestic airline market. but the national carrier  qantas  has fought back with its own budget airline  jetstar  which took to the skies in may 2004. sydney-listed virgin blue s shares recovered slightly to close 12% down on wednesday. shares in its major shareholder  patrick corporation - which owns 46% of virgin blue - had dropped 31% by the close.'"
            ],
            "application/vnd.google.colaboratory.intrinsic+json": {
              "type": "string"
            }
          },
          "metadata": {},
          "execution_count": 11
        }
      ]
    },
    {
      "cell_type": "markdown",
      "source": [
        "from df['text'][11], there are some symbols like %, -, and there are some stopwords like 'and', 'has been', 'in', etc. I'll try to remove that string from the dataset."
      ],
      "metadata": {
        "id": "L3NZtzSlUtZL"
      }
    },
    {
      "cell_type": "code",
      "source": [
        "nltk.download('stopwords')"
      ],
      "metadata": {
        "id": "CXr_lH3wUD2L",
        "colab": {
          "base_uri": "https://localhost:8080/"
        },
        "outputId": "26981733-ad68-4ebf-ccf1-8ad4cd621193"
      },
      "execution_count": null,
      "outputs": [
        {
          "output_type": "stream",
          "name": "stderr",
          "text": [
            "[nltk_data] Downloading package stopwords to /root/nltk_data...\n",
            "[nltk_data]   Unzipping corpora/stopwords.zip.\n"
          ]
        },
        {
          "output_type": "execute_result",
          "data": {
            "text/plain": [
              "True"
            ]
          },
          "metadata": {},
          "execution_count": 12
        }
      ]
    },
    {
      "cell_type": "code",
      "source": [
        "stop_words = set(stopwords.words('english'))\n",
        "space = re.compile('[/(){}\\[\\]\\|@,;]')\n",
        "symbols= re.compile('[^0-9a-z #+_]')\n",
        "\n",
        "def clean_text(text):\n",
        "    text = text.lower()\n",
        "    text = space.sub(' ', text) #substitute the matched string in REPLACE_BY_SPACE_RE with space.\n",
        "    text = symbols.sub('', text) #substitute the matched string in BAD_SYMBOLS_RE with nothing.\n",
        "    text = text.replace('x', '')\n",
        "    text = ' '.join(word for word in text.split() if word not in stop_words) # remove stopwors from text\n",
        "    return text\n",
        "\n",
        "df['text']=df['text'].apply(clean_text)"
      ],
      "metadata": {
        "id": "xYA5g0xVPvfA"
      },
      "execution_count": null,
      "outputs": []
    },
    {
      "cell_type": "code",
      "source": [
        "df['text'][11]"
      ],
      "metadata": {
        "id": "UyrLGsr2R_xa",
        "colab": {
          "base_uri": "https://localhost:8080/",
          "height": 127
        },
        "outputId": "912b6ad9-7176-4b50-b109-49e7d04e3f1c"
      },
      "execution_count": null,
      "outputs": [
        {
          "output_type": "execute_result",
          "data": {
            "text/plain": [
              "'virgin blue shares plummet 20 shares australian budget airline virgin blue plunged 20 warned steep fall full year profits virgin blue said profits ta year march would 10 15 lower previous year sluggish demand reported previously november december 2004 continues said virgin blue chief eecutive brett godfrey virgin blue 25 owned richard branson struggling fend pressure rival jetstar cut full year passenger number forecast approimately 25 virgin blue reported 22 fall first quarter profits august 2004 due tough competition november first half profits due slack demand rising fuel costs virgin blue launched four years ago roughly one third australia domestic airline market national carrier qantas fought back budget airline jetstar took skies may 2004 sydneylisted virgin blue shares recovered slightly close 12 wednesday shares major shareholder patrick corporation owns 46 virgin blue dropped 31 close'"
            ],
            "application/vnd.google.colaboratory.intrinsic+json": {
              "type": "string"
            }
          },
          "metadata": {},
          "execution_count": 14
        }
      ]
    },
    {
      "cell_type": "code",
      "source": [
        "import seaborn as sns\n",
        "\n",
        "x = df.category.value_counts()\n",
        "sns.barplot(x=x.index, y=x)\n",
        "plt.gca().set_title('Class Distributions')\n",
        "plt.gca().set_ylabel('Samples')\n",
        "plt.gca().set_xlabel('Categories')\n",
        "plt.show()"
      ],
      "metadata": {
        "colab": {
          "base_uri": "https://localhost:8080/",
          "height": 472
        },
        "id": "XrFtUlYiuqRa",
        "outputId": "c55869ce-8e6b-49cb-eae8-bde96f4488f3"
      },
      "execution_count": null,
      "outputs": [
        {
          "output_type": "display_data",
          "data": {
            "text/plain": [
              "<Figure size 640x480 with 1 Axes>"
            ],
            "image/png": "[encoded data removed]"
          },
          "metadata": {}
        }
      ]
    },
    {
      "cell_type": "code",
      "source": [
        "fig1, (ax1, ax2, ax3) = plt.subplots(1, 3, figsize=(10, 5))\n",
        "count_sport = df[df['category']=='sport']['text'].str.len()\n",
        "ax1.hist(count_sport, color='red')\n",
        "ax1.set_title('Sport Category')\n",
        "\n",
        "count_business = df[df['category']=='business']['text'].str.len()\n",
        "ax2.hist(count_business, color='blue')\n",
        "ax2.set_title('Business Category')\n",
        "\n",
        "count_politics = df[df['category']=='politics']['text'].str.len()\n",
        "ax3.hist(count_politics, color='purple')\n",
        "ax3.set_title('Politics Category')\n",
        "fig1.suptitle('Characters in Categories')\n",
        "\n",
        "fig2, (ax4, ax5) = plt.subplots(1, 2, figsize=(10, 5))\n",
        "count_tech = df[df['category']=='tech']['text'].str.len()\n",
        "ax4.hist(count_tech, color='black')\n",
        "ax4.set_title('Tech Category')\n",
        "\n",
        "count_entertainment = df[df['category']=='entertainment']['text'].str.len()\n",
        "ax5.hist(count_entertainment, color='orange')\n",
        "ax5.set_title('Entertainment Category')\n",
        "fig2.suptitle('Characters in Categories')\n",
        "\n",
        "plt.show()"
      ],
      "metadata": {
        "colab": {
          "base_uri": "https://localhost:8080/",
          "height": 973
        },
        "id": "ErIuKkN8wO1S",
        "outputId": "80d0e7e7-c942-4c73-df93-ac46f3171a3e"
      },
      "execution_count": null,
      "outputs": [
        {
          "output_type": "display_data",
          "data": {
            "text/plain": [
              "<Figure size 1000x500 with 3 Axes>"
            ],
            "image/png": "[encoded data removed]"
          },
          "metadata": {}
        },
        {
          "output_type": "display_data",
          "data": {
            "text/plain": [
              "<Figure size 1000x500 with 2 Axes>"
            ],
            "image/png": "[encoded data removed]"
          },
          "metadata": {}
        }
      ]
    },
    {
      "cell_type": "markdown",
      "source": [
        "After cleaning there are no more symbols and stop words."
      ],
      "metadata": {
        "id": "992cVmQ7Vh6c"
      }
    },
    {
      "cell_type": "markdown",
      "source": [
        "## 4. Using Callback Function\n",
        "\n",
        "I'll implement a Callback Function, so my model training will be stopped after reaching desired accuracy, 91%."
      ],
      "metadata": {
        "id": "5mvsO3EUVqNZ"
      }
    },
    {
      "cell_type": "code",
      "source": [
        "class myCallback(tf.keras.callbacks.Callback):\n",
        "  def on_epoch_end(self, epoch, logs:{}):\n",
        "    if(logs.get('accuracy')>0.91 and logs.get('val_accuracy')>0.91) :\n",
        "      print(\"\\n Akurasi sudah di atas 91%, hentikan training!\")\n",
        "      self.model.stop_training = True\n",
        "\n",
        "lr = ReduceLROnPlateau(monitor='val_loss',\n",
        "                       pattience=1,\n",
        "                       factor=0.5,\n",
        "                       verbose=1)"
      ],
      "metadata": {
        "id": "rTvfGaDmSLr1"
      },
      "execution_count": null,
      "outputs": []
    },
    {
      "cell_type": "markdown",
      "source": [
        "## 5. One Hot Encoding\n",
        "\n",
        "To change the dataset into numerical data, I'll perform One Hot Encoding for my dataset using pd.get.dummies, and combine the result into main dataframe."
      ],
      "metadata": {
        "id": "uDlGxOR_Wc_E"
      }
    },
    {
      "cell_type": "code",
      "source": [
        "category = pd.get_dummies(df.category)\n",
        "df_baru = pd.concat([df,category], axis=1)\n",
        "df_baru = df_baru.drop(columns='category')\n",
        "df_baru"
      ],
      "metadata": {
        "id": "JuQNLlk7c3Jy",
        "colab": {
          "base_uri": "https://localhost:8080/",
          "height": 423
        },
        "outputId": "e88db839-91e9-46ee-f2f3-aeb615d3af32"
      },
      "execution_count": null,
      "outputs": [
        {
          "output_type": "execute_result",
          "data": {
            "text/plain": [
              "                                                   text  business  \\\n",
              "0     tv future hands viewers home theatre systems p...         0   \n",
              "1     worldcom boss left books alone former worldcom...         1   \n",
              "2     tigers wary farrell gamble leicester say rushe...         0   \n",
              "3     yeading face newcastle fa cup premiership side...         0   \n",
              "4     ocean twelve raids bo office ocean twelve crim...         0   \n",
              "...                                                 ...       ...   \n",
              "2220  cars pull us retail figures us retail sales fe...         1   \n",
              "2221  kilroy unveils immigration policy echatshow ho...         0   \n",
              "2222  rem announce new glasgow concert us band rem a...         0   \n",
              "2223  political squabbles snowball become commonplac...         0   \n",
              "2224  souness delight euro progress boss graeme soun...         0   \n",
              "\n",
              "      entertainment  politics  sport  tech  \n",
              "0                 0         0      0     1  \n",
              "1                 0         0      0     0  \n",
              "2                 0         0      1     0  \n",
              "3                 0         0      1     0  \n",
              "4                 1         0      0     0  \n",
              "...             ...       ...    ...   ...  \n",
              "2220              0         0      0     0  \n",
              "2221              0         1      0     0  \n",
              "2222              1         0      0     0  \n",
              "2223              0         1      0     0  \n",
              "2224              0         0      1     0  \n",
              "\n",
              "[2225 rows x 6 columns]"
            ],
            "text/html": [
              "\n",
              "  <div id=\"df-c0db94fd-6792-4307-8930-8ecc4899b392\" class=\"colab-df-container\">\n",
              "    <div>\n",
              "<style scoped>\n",
              "    .dataframe tbody tr th:only-of-type {\n",
              "        vertical-align: middle;\n",
              "    }\n",
              "\n",
              "    .dataframe tbody tr th {\n",
              "        vertical-align: top;\n",
              "    }\n",
              "\n",
              "    .dataframe thead th {\n",
              "        text-align: right;\n",
              "    }\n",
              "</style>\n",
              "<table border=\"1\" class=\"dataframe\">\n",
              "  <thead>\n",
              "    <tr style=\"text-align: right;\">\n",
              "      <th></th>\n",
              "      <th>text</th>\n",
              "      <th>business</th>\n",
              "      <th>entertainment</th>\n",
              "      <th>politics</th>\n",
              "      <th>sport</th>\n",
              "      <th>tech</th>\n",
              "    </tr>\n",
              "  </thead>\n",
              "  <tbody>\n",
              "    <tr>\n",
              "      <th>0</th>\n",
              "      <td>tv future hands viewers home theatre systems p...</td>\n",
              "      <td>0</td>\n",
              "      <td>0</td>\n",
              "      <td>0</td>\n",
              "      <td>0</td>\n",
              "      <td>1</td>\n",
              "    </tr>\n",
              "    <tr>\n",
              "      <th>1</th>\n",
              "      <td>worldcom boss left books alone former worldcom...</td>\n",
              "      <td>1</td>\n",
              "      <td>0</td>\n",
              "      <td>0</td>\n",
              "      <td>0</td>\n",
              "      <td>0</td>\n",
              "    </tr>\n",
              "    <tr>\n",
              "      <th>2</th>\n",
              "      <td>tigers wary farrell gamble leicester say rushe...</td>\n",
              "      <td>0</td>\n",
              "      <td>0</td>\n",
              "      <td>0</td>\n",
              "      <td>1</td>\n",
              "      <td>0</td>\n",
              "    </tr>\n",
              "    <tr>\n",
              "      <th>3</th>\n",
              "      <td>yeading face newcastle fa cup premiership side...</td>\n",
              "      <td>0</td>\n",
              "      <td>0</td>\n",
              "      <td>0</td>\n",
              "      <td>1</td>\n",
              "      <td>0</td>\n",
              "    </tr>\n",
              "    <tr>\n",
              "      <th>4</th>\n",
              "      <td>ocean twelve raids bo office ocean twelve crim...</td>\n",
              "      <td>0</td>\n",
              "      <td>1</td>\n",
              "      <td>0</td>\n",
              "      <td>0</td>\n",
              "      <td>0</td>\n",
              "    </tr>\n",
              "    <tr>\n",
              "      <th>...</th>\n",
              "      <td>...</td>\n",
              "      <td>...</td>\n",
              "      <td>...</td>\n",
              "      <td>...</td>\n",
              "      <td>...</td>\n",
              "      <td>...</td>\n",
              "    </tr>\n",
              "    <tr>\n",
              "      <th>2220</th>\n",
              "      <td>cars pull us retail figures us retail sales fe...</td>\n",
              "      <td>1</td>\n",
              "      <td>0</td>\n",
              "      <td>0</td>\n",
              "      <td>0</td>\n",
              "      <td>0</td>\n",
              "    </tr>\n",
              "    <tr>\n",
              "      <th>2221</th>\n",
              "      <td>kilroy unveils immigration policy echatshow ho...</td>\n",
              "      <td>0</td>\n",
              "      <td>0</td>\n",
              "      <td>1</td>\n",
              "      <td>0</td>\n",
              "      <td>0</td>\n",
              "    </tr>\n",
              "    <tr>\n",
              "      <th>2222</th>\n",
              "      <td>rem announce new glasgow concert us band rem a...</td>\n",
              "      <td>0</td>\n",
              "      <td>1</td>\n",
              "      <td>0</td>\n",
              "      <td>0</td>\n",
              "      <td>0</td>\n",
              "    </tr>\n",
              "    <tr>\n",
              "      <th>2223</th>\n",
              "      <td>political squabbles snowball become commonplac...</td>\n",
              "      <td>0</td>\n",
              "      <td>0</td>\n",
              "      <td>1</td>\n",
              "      <td>0</td>\n",
              "      <td>0</td>\n",
              "    </tr>\n",
              "    <tr>\n",
              "      <th>2224</th>\n",
              "      <td>souness delight euro progress boss graeme soun...</td>\n",
              "      <td>0</td>\n",
              "      <td>0</td>\n",
              "      <td>0</td>\n",
              "      <td>1</td>\n",
              "      <td>0</td>\n",
              "    </tr>\n",
              "  </tbody>\n",
              "</table>\n",
              "<p>2225 rows × 6 columns</p>\n",
              "</div>\n",
              "    <div class=\"colab-df-buttons\">\n",
              "\n",
              "  <div class=\"colab-df-container\">\n",
              "    <button class=\"colab-df-convert\" onclick=\"convertToInteractive('df-c0db94fd-6792-4307-8930-8ecc4899b392')\"\n",
              "            title=\"Convert this dataframe to an interactive table.\"\n",
              "            style=\"display:none;\">\n",
              "\n",
              "  <svg xmlns=\"http://www.w3.org/2000/svg\" height=\"24px\" viewBox=\"0 -960 960 960\">\n",
              "    <path d=\"M120-120v-720h720v720H120Zm60-500h600v-160H180v160Zm220 220h160v-160H400v160Zm0 220h160v-160H400v160ZM180-400h160v-160H180v160Zm440 0h160v-160H620v160ZM180-180h160v-160H180v160Zm440 0h160v-160H620v160Z\"/>\n",
              "  </svg>\n",
              "    </button>\n",
              "\n",
              "  <style>\n",
              "    .colab-df-container {\n",
              "      display:flex;\n",
              "      gap: 12px;\n",
              "    }\n",
              "\n",
              "    .colab-df-convert {\n",
              "      background-color: #E8F0FE;\n",
              "      border: none;\n",
              "      border-radius: 50%;\n",
              "      cursor: pointer;\n",
              "      display: none;\n",
              "      fill: #1967D2;\n",
              "      height: 32px;\n",
              "      padding: 0 0 0 0;\n",
              "      width: 32px;\n",
              "    }\n",
              "\n",
              "    .colab-df-convert:hover {\n",
              "      background-color: #E2EBFA;\n",
              "      box-shadow: 0px 1px 2px rgba(60, 64, 67, 0.3), 0px 1px 3px 1px rgba(60, 64, 67, 0.15);\n",
              "      fill: #174EA6;\n",
              "    }\n",
              "\n",
              "    .colab-df-buttons div {\n",
              "      margin-bottom: 4px;\n",
              "    }\n",
              "\n",
              "    [theme=dark] .colab-df-convert {\n",
              "      background-color: #3B4455;\n",
              "      fill: #D2E3FC;\n",
              "    }\n",
              "\n",
              "    [theme=dark] .colab-df-convert:hover {\n",
              "      background-color: #434B5C;\n",
              "      box-shadow: 0px 1px 3px 1px rgba(0, 0, 0, 0.15);\n",
              "      filter: drop-shadow(0px 1px 2px rgba(0, 0, 0, 0.3));\n",
              "      fill: #FFFFFF;\n",
              "    }\n",
              "  </style>\n",
              "\n",
              "    <script>\n",
              "      const buttonEl =\n",
              "        document.querySelector('#df-c0db94fd-6792-4307-8930-8ecc4899b392 button.colab-df-convert');\n",
              "      buttonEl.style.display =\n",
              "        google.colab.kernel.accessAllowed ? 'block' : 'none';\n",
              "\n",
              "      async function convertToInteractive(key) {\n",
              "        const element = document.querySelector('#df-c0db94fd-6792-4307-8930-8ecc4899b392');\n",
              "        const dataTable =\n",
              "          await google.colab.kernel.invokeFunction('convertToInteractive',\n",
              "                                                    [key], {});\n",
              "        if (!dataTable) return;\n",
              "\n",
              "        const docLinkHtml = 'Like what you see? Visit the ' +\n",
              "          '<a target=\"_blank\" href=https://colab.research.google.com/notebooks/data_table.ipynb>data table notebook</a>'\n",
              "          + ' to learn more about interactive tables.';\n",
              "        element.innerHTML = '';\n",
              "        dataTable['output_type'] = 'display_data';\n",
              "        await google.colab.output.renderOutput(dataTable, element);\n",
              "        const docLink = document.createElement('div');\n",
              "        docLink.innerHTML = docLinkHtml;\n",
              "        element.appendChild(docLink);\n",
              "      }\n",
              "    </script>\n",
              "  </div>\n",
              "\n",
              "\n",
              "<div id=\"df-93ab001e-930a-470a-8958-e347b354a4b4\">\n",
              "  <button class=\"colab-df-quickchart\" onclick=\"quickchart('df-93ab001e-930a-470a-8958-e347b354a4b4')\"\n",
              "            title=\"Suggest charts\"\n",
              "            style=\"display:none;\">\n",
              "\n",
              "<svg xmlns=\"http://www.w3.org/2000/svg\" height=\"24px\"viewBox=\"0 0 24 24\"\n",
              "     width=\"24px\">\n",
              "    <g>\n",
              "        <path d=\"M19 3H5c-1.1 0-2 .9-2 2v14c0 1.1.9 2 2 2h14c1.1 0 2-.9 2-2V5c0-1.1-.9-2-2-2zM9 17H7v-7h2v7zm4 0h-2V7h2v10zm4 0h-2v-4h2v4z\"/>\n",
              "    </g>\n",
              "</svg>\n",
              "  </button>\n",
              "\n",
              "<style>\n",
              "  .colab-df-quickchart {\n",
              "      --bg-color: #E8F0FE;\n",
              "      --fill-color: #1967D2;\n",
              "      --hover-bg-color: #E2EBFA;\n",
              "      --hover-fill-color: #174EA6;\n",
              "      --disabled-fill-color: #AAA;\n",
              "      --disabled-bg-color: #DDD;\n",
              "  }\n",
              "\n",
              "  [theme=dark] .colab-df-quickchart {\n",
              "      --bg-color: #3B4455;\n",
              "      --fill-color: #D2E3FC;\n",
              "      --hover-bg-color: #434B5C;\n",
              "      --hover-fill-color: #FFFFFF;\n",
              "      --disabled-bg-color: #3B4455;\n",
              "      --disabled-fill-color: #666;\n",
              "  }\n",
              "\n",
              "  .colab-df-quickchart {\n",
              "    background-color: var(--bg-color);\n",
              "    border: none;\n",
              "    border-radius: 50%;\n",
              "    cursor: pointer;\n",
              "    display: none;\n",
              "    fill: var(--fill-color);\n",
              "    height: 32px;\n",
              "    padding: 0;\n",
              "    width: 32px;\n",
              "  }\n",
              "\n",
              "  .colab-df-quickchart:hover {\n",
              "    background-color: var(--hover-bg-color);\n",
              "    box-shadow: 0 1px 2px rgba(60, 64, 67, 0.3), 0 1px 3px 1px rgba(60, 64, 67, 0.15);\n",
              "    fill: var(--button-hover-fill-color);\n",
              "  }\n",
              "\n",
              "  .colab-df-quickchart-complete:disabled,\n",
              "  .colab-df-quickchart-complete:disabled:hover {\n",
              "    background-color: var(--disabled-bg-color);\n",
              "    fill: var(--disabled-fill-color);\n",
              "    box-shadow: none;\n",
              "  }\n",
              "\n",
              "  .colab-df-spinner {\n",
              "    border: 2px solid var(--fill-color);\n",
              "    border-color: transparent;\n",
              "    border-bottom-color: var(--fill-color);\n",
              "    animation:\n",
              "      spin 1s steps(1) infinite;\n",
              "  }\n",
              "\n",
              "  @keyframes spin {\n",
              "    0% {\n",
              "      border-color: transparent;\n",
              "      border-bottom-color: var(--fill-color);\n",
              "      border-left-color: var(--fill-color);\n",
              "    }\n",
              "    20% {\n",
              "      border-color: transparent;\n",
              "      border-left-color: var(--fill-color);\n",
              "      border-top-color: var(--fill-color);\n",
              "    }\n",
              "    30% {\n",
              "      border-color: transparent;\n",
              "      border-left-color: var(--fill-color);\n",
              "      border-top-color: var(--fill-color);\n",
              "      border-right-color: var(--fill-color);\n",
              "    }\n",
              "    40% {\n",
              "      border-color: transparent;\n",
              "      border-right-color: var(--fill-color);\n",
              "      border-top-color: var(--fill-color);\n",
              "    }\n",
              "    60% {\n",
              "      border-color: transparent;\n",
              "      border-right-color: var(--fill-color);\n",
              "    }\n",
              "    80% {\n",
              "      border-color: transparent;\n",
              "      border-right-color: var(--fill-color);\n",
              "      border-bottom-color: var(--fill-color);\n",
              "    }\n",
              "    90% {\n",
              "      border-color: transparent;\n",
              "      border-bottom-color: var(--fill-color);\n",
              "    }\n",
              "  }\n",
              "</style>\n",
              "\n",
              "  <script>\n",
              "    async function quickchart(key) {\n",
              "      const quickchartButtonEl =\n",
              "        document.querySelector('#' + key + ' button');\n",
              "      quickchartButtonEl.disabled = true;  // To prevent multiple clicks.\n",
              "      quickchartButtonEl.classList.add('colab-df-spinner');\n",
              "      try {\n",
              "        const charts = await google.colab.kernel.invokeFunction(\n",
              "            'suggestCharts', [key], {});\n",
              "      } catch (error) {\n",
              "        console.error('Error during call to suggestCharts:', error);\n",
              "      }\n",
              "      quickchartButtonEl.classList.remove('colab-df-spinner');\n",
              "      quickchartButtonEl.classList.add('colab-df-quickchart-complete');\n",
              "    }\n",
              "    (() => {\n",
              "      let quickchartButtonEl =\n",
              "        document.querySelector('#df-93ab001e-930a-470a-8958-e347b354a4b4 button');\n",
              "      quickchartButtonEl.style.display =\n",
              "        google.colab.kernel.accessAllowed ? 'block' : 'none';\n",
              "    })();\n",
              "  </script>\n",
              "</div>\n",
              "    </div>\n",
              "  </div>\n"
            ],
            "application/vnd.google.colaboratory.intrinsic+json": {
              "type": "dataframe",
              "variable_name": "df_baru",
              "summary": "{\n  \"name\": \"df_baru\",\n  \"rows\": 2225,\n  \"fields\": [\n    {\n      \"column\": \"text\",\n      \"properties\": {\n        \"dtype\": \"string\",\n        \"num_unique_values\": 2120,\n        \"samples\": [\n          \"media seek jackson juror notes reporters covering singer michael jackson trial california asked see questionnaires completed potential jurors lawyers news organisations said really vital responses 250 potential jurors made public serve check process santa barbara county superior court due consider request monday mr jackson denies child molestation estimated trial cost santa barbara county 4m 213m meanwhile michael jackson mother said 100 certain son commit child abuse charges faces court currently selecting 12 jurors eight standby jurors trial process delayed least thursday member star legal team hit family illness defence lawyers argued bid associated press news organisations potential jurors responses made public release completed jury questionnaires serve purpose add sensationalist coverage case motion mr jackson lawyers stated estimated total costs trial epected last five months range 25m 133m 4m 213m local tapayers money estimates include costs city santa maria superior court investigation prosecution case cost security needs around courthouse estimated 40 000 21 000 per day said jason stilwell special projects manager county administrator office mr jackson 46 denies plying boy alcohol molesting mother katherine jackson told us tv network fo news sunday pop star son told innocent believe one reason know character said loves children molest anything love describing mr jackson good person motherofnine said feared would given fair trial sleep thinking wicked people might try said\",\n          \"broadband set revolutionise tv bt starting push television plans offer tv broadband telecoms company bt moving content distribution strategy andrew burke chief bt new entertainment unit told iptv world forum want entertainment facilitator said opening day london conference bbc also trialling service play programmes net ruled offering nonlicence fee payers overseas corporation interactive media player imp first foray broadband tv known iptv internet protocol tv see several opportunities delivering type content normally broadcasters find difficult get viewers said bt andrew burke people broadband connection speeds increasing telcos around world looking new ways make money increased competition net service providers encouraged ofcom eroded bt position market looking good return investment technology made broadband adsl reality also sees delivering tv broadband way getting highdefinition hd content people sooner able get conventional regular broadcasts bbc imp finished successful technical trials set much larger consumer trials later 2005 officially launches bbc must show government offers value money delivering programmes broadband offers clear public value says bbc gives people control choice iptv similar idea voip services like skype use broadband net connections carry information like video voice packets data instead conventional means since uses internet technology iptv could mean choice programmes interactivity tailored programming localised content outside conventional satellite digital cable terrestrial broadcasts part larger changing tv technology landscape like personal digital video recorders pvrs gives people much control tv broadcasters see iptv pvrs threat opportunity bbc recognises tv broadband reality aims innovate said rahul chakkara controller bbci 24 7 interactive tv services imp based peertopeer technology lets people download programmes bbc owns rights seven days broadcast iptv enables us take back programme audience different times said mr chakkara tell audience programme paid via licence fee access time want helps said mr burke people au fait terms like digital interactive digital tv reaches 56 uk homes according benoit joly broadband telecoms firm thales 30 europe cannot get satellite tv digital tv could get iptv though analysts say iptv account 10 digital tv market europe alone end decade needs happen agree analysts connection speeds bumped handle service 20mbps connections would ideal bt see broadcaster iptv services rather enabler said mr burke strategy hybrid approach eplained overtheair conventional broadcasts supplemented content broadband initially appealing niche markets like sports fans widen iptv could used homemonitoring pet cams localised news services local authority tv says bt even suggests could target households uk computer 40 country broadband would data net could come later cheap phone calls choice tv programmes home choice already offers 10 000 hours shows channels delivered broadband homes london broadband net subscription also get tv phone service content deals partnerships offers satellite well terrestrial channels bespoke channels based viewers pick choose catalogues aims epand nationally seeing lot success offers 15 000 subscribers aims double uptake well reach summer although still early stage iptv another application broadband underlines growing prominence backbone network another utility like electricity\",\n          \"freeze antispam campaign campaign lycos europe target spamrelated websites appears put hold earlier week company released screensaver bombarded sites data try bump running costs websites site hosting screensaver displays pink graphic words stay tuned one lycos available comment latest developments controversial antispam campaign lycos europe make love spam campaign intended way users fight back mountain junk mail flooding inboes people encouraged download screensaver pc idle would send lots data sites peddle goods services mentioned spam messages lycos said idea get spam sites running 95 capacity generate big bandwidth bills spammers behind sites plan proved controversial monitoring firm netcraft analysed response times sites targeted screensaver found number completely knocked offline downing sites could dent lycos claims amount distributed denial service attack attacks thousands computers bombard sites data attempt overwhelm laws many countries eplicitly outlaw attacks many nations redrafting computer use laws make specific offences lycos europe appears put plan hold site hosting screensaver currently shows holding page words stay tuned numerical internet address site also changed likely response spammers reportedly redirected traffic sites back lycos screensaver site campaign come fire corners web many discussion groups said set dangerous precedent could incite vigilantism attacking spammer website like poking grizzly bear sleeping back garden pointy stick said graham cluley senior technology consultant sophos screensaver similar approach potentially illegal distributed denial service attack also danger turning innocent computer users vigilantes may prepared whatever retaliation spammers care dream\"\n        ],\n        \"semantic_type\": \"\",\n        \"description\": \"\"\n      }\n    },\n    {\n      \"column\": \"business\",\n      \"properties\": {\n        \"dtype\": \"uint8\",\n        \"num_unique_values\": 2,\n        \"samples\": [\n          1,\n          0\n        ],\n        \"semantic_type\": \"\",\n        \"description\": \"\"\n      }\n    },\n    {\n      \"column\": \"entertainment\",\n      \"properties\": {\n        \"dtype\": \"uint8\",\n        \"num_unique_values\": 2,\n        \"samples\": [\n          1,\n          0\n        ],\n        \"semantic_type\": \"\",\n        \"description\": \"\"\n      }\n    },\n    {\n      \"column\": \"politics\",\n      \"properties\": {\n        \"dtype\": \"uint8\",\n        \"num_unique_values\": 2,\n        \"samples\": [\n          1,\n          0\n        ],\n        \"semantic_type\": \"\",\n        \"description\": \"\"\n      }\n    },\n    {\n      \"column\": \"sport\",\n      \"properties\": {\n        \"dtype\": \"uint8\",\n        \"num_unique_values\": 2,\n        \"samples\": [\n          1,\n          0\n        ],\n        \"semantic_type\": \"\",\n        \"description\": \"\"\n      }\n    },\n    {\n      \"column\": \"tech\",\n      \"properties\": {\n        \"dtype\": \"uint8\",\n        \"num_unique_values\": 2,\n        \"samples\": [\n          0,\n          1\n        ],\n        \"semantic_type\": \"\",\n        \"description\": \"\"\n      }\n    }\n  ]\n}"
            }
          },
          "metadata": {},
          "execution_count": 18
        }
      ]
    },
    {
      "cell_type": "markdown",
      "source": [
        "## 6. Train and Test Data\n",
        "\n",
        "Change all data into numerical data, and split the dataset for train and test data with ratio 0.2 or 20%. After that the data will be Tokenized, turn into sequences, and use pad_sequences."
      ],
      "metadata": {
        "id": "1OAq-pxdXCFg"
      }
    },
    {
      "cell_type": "code",
      "source": [
        "news = df_baru['text'].values\n",
        "category = df_baru[['business','entertainment', 'politics', 'sport', 'tech']].values"
      ],
      "metadata": {
        "id": "nvVIb7XReEnL"
      },
      "execution_count": null,
      "outputs": []
    },
    {
      "cell_type": "code",
      "source": [
        "news_latih, news_test, category_latih, category_test = train_test_split(news, category, test_size=0.2, random_state=42)"
      ],
      "metadata": {
        "id": "qlwQunIselom"
      },
      "execution_count": null,
      "outputs": []
    },
    {
      "cell_type": "code",
      "source": [
        "len(news_latih)"
      ],
      "metadata": {
        "id": "Do6f9IhGn3Bs",
        "colab": {
          "base_uri": "https://localhost:8080/"
        },
        "outputId": "3dcb43d1-faed-4de0-fc28-9f3b0f297613"
      },
      "execution_count": null,
      "outputs": [
        {
          "output_type": "execute_result",
          "data": {
            "text/plain": [
              "1780"
            ]
          },
          "metadata": {},
          "execution_count": 21
        }
      ]
    },
    {
      "cell_type": "code",
      "source": [
        "len(news_test)"
      ],
      "metadata": {
        "id": "n-yFsv4vn6wS",
        "colab": {
          "base_uri": "https://localhost:8080/"
        },
        "outputId": "2d41d83e-a275-4816-cf00-86921fccb48a"
      },
      "execution_count": null,
      "outputs": [
        {
          "output_type": "execute_result",
          "data": {
            "text/plain": [
              "445"
            ]
          },
          "metadata": {},
          "execution_count": 22
        }
      ]
    },
    {
      "cell_type": "markdown",
      "source": [
        "After splitting, the data on news_test are 445 data. That's exactly 20% from total dataset 2225 data."
      ],
      "metadata": {
        "id": "_kvBzBw5oaz4"
      }
    },
    {
      "cell_type": "code",
      "source": [
        "tokenizer = Tokenizer(num_words=3000, oov_token='x')\n",
        "tokenizer.fit_on_texts(news_latih)\n",
        "tokenizer.fit_on_texts(news_test)\n",
        "\n",
        "sekuens_latih = tokenizer.texts_to_sequences(news_latih)\n",
        "sekuens_test = tokenizer.texts_to_sequences(news_test)\n",
        "\n",
        "padded_latih = pad_sequences(sekuens_latih)\n",
        "padded_test = pad_sequences(sekuens_test)"
      ],
      "metadata": {
        "id": "wKN7aAXMe_KN"
      },
      "execution_count": null,
      "outputs": []
    },
    {
      "cell_type": "markdown",
      "source": [
        "##7. Model\n",
        "\n",
        "Make a Sequential model using Embedding and LSTM layers.\n",
        "To prevent overfit for my model, I'll add Dropout layer with 0.2 value."
      ],
      "metadata": {
        "id": "qPCm3OonXoiU"
      }
    },
    {
      "cell_type": "code",
      "source": [
        "model = tf.keras.Sequential([\n",
        "         tf.keras.layers.Embedding(input_dim=3000, output_dim=16),\n",
        "         tf.keras.layers.LSTM(64),\n",
        "         tf.keras.layers.Dense(64, activation='relu'),\n",
        "         tf.keras.layers.Dropout(0.5),\n",
        "         tf.keras.layers.Dense(32, activation='relu'),\n",
        "         tf.keras.layers.Dropout(0.5),\n",
        "         tf.keras.layers.Dense(5, activation='softmax')\n",
        "])\n",
        "model.compile(loss='categorical_crossentropy', optimizer='adam', metrics=['accuracy'])"
      ],
      "metadata": {
        "id": "Htvf6rKkfOAb"
      },
      "execution_count": null,
      "outputs": []
    },
    {
      "cell_type": "markdown",
      "source": [
        "##8. Train Model\n",
        "\n",
        "The model will be trained with 30 epochs."
      ],
      "metadata": {
        "id": "TR__IsibYUrs"
      }
    },
    {
      "cell_type": "code",
      "source": [
        "num_epochs = 70\n",
        "history = model.fit(padded_latih,\n",
        "                    category_latih,\n",
        "                    epochs=num_epochs,\n",
        "                    steps_per_epoch = 36,\n",
        "                    validation_data = (padded_test, category_test),\n",
        "                    validation_steps = 27,\n",
        "                    verbose = 1,\n",
        "                    callbacks=[lr, myCallback()]\n",
        "                    )"
      ],
      "metadata": {
        "id": "XZRKeF6ufs2U",
        "colab": {
          "base_uri": "https://localhost:8080/"
        },
        "outputId": "0c274c84-b1ca-4041-af28-4186fdff5579"
      },
      "execution_count": null,
      "outputs": [
        {
          "output_type": "stream",
          "name": "stdout",
          "text": [
            "Epoch 1/70\n",
            "36/36 [==============================] - 16s 279ms/step - loss: 1.6089 - accuracy: 0.2096 - val_loss: 1.6061 - val_accuracy: 0.2202 - lr: 0.0010\n",
            "Epoch 2/70\n",
            "36/36 [==============================] - 7s 186ms/step - loss: 1.6012 - accuracy: 0.2180 - val_loss: 1.5843 - val_accuracy: 0.2202 - lr: 0.0010\n",
            "Epoch 3/70\n",
            "36/36 [==============================] - 7s 198ms/step - loss: 1.5612 - accuracy: 0.2528 - val_loss: 1.4133 - val_accuracy: 0.3079 - lr: 0.0010\n",
            "Epoch 4/70\n",
            "36/36 [==============================] - 5s 145ms/step - loss: 1.3085 - accuracy: 0.3798 - val_loss: 1.1037 - val_accuracy: 0.4112 - lr: 0.0010\n",
            "Epoch 5/70\n",
            "36/36 [==============================] - 6s 161ms/step - loss: 1.0712 - accuracy: 0.4989 - val_loss: 0.9800 - val_accuracy: 0.5393 - lr: 0.0010\n",
            "Epoch 6/70\n",
            "36/36 [==============================] - 6s 173ms/step - loss: 0.8684 - accuracy: 0.5494 - val_loss: 0.8404 - val_accuracy: 0.6112 - lr: 0.0010\n",
            "Epoch 7/70\n",
            "36/36 [==============================] - 6s 159ms/step - loss: 0.7755 - accuracy: 0.6017 - val_loss: 0.8638 - val_accuracy: 0.6000 - lr: 0.0010\n",
            "Epoch 8/70\n",
            "36/36 [==============================] - 4s 109ms/step - loss: 0.6960 - accuracy: 0.6607 - val_loss: 0.6213 - val_accuracy: 0.7888 - lr: 0.0010\n",
            "Epoch 9/70\n",
            "36/36 [==============================] - 5s 144ms/step - loss: 0.4737 - accuracy: 0.7955 - val_loss: 0.5170 - val_accuracy: 0.8382 - lr: 0.0010\n",
            "Epoch 10/70\n",
            "36/36 [==============================] - 5s 141ms/step - loss: 0.3685 - accuracy: 0.8730 - val_loss: 0.5296 - val_accuracy: 0.8382 - lr: 0.0010\n",
            "Epoch 11/70\n",
            "36/36 [==============================] - 4s 100ms/step - loss: 0.2640 - accuracy: 0.9146 - val_loss: 0.5762 - val_accuracy: 0.8427 - lr: 0.0010\n",
            "Epoch 12/70\n",
            "36/36 [==============================] - 3s 84ms/step - loss: 0.1915 - accuracy: 0.9348 - val_loss: 0.5795 - val_accuracy: 0.8517 - lr: 0.0010\n",
            "Epoch 13/70\n",
            "36/36 [==============================] - 4s 126ms/step - loss: 0.1898 - accuracy: 0.9393 - val_loss: 0.6996 - val_accuracy: 0.8315 - lr: 0.0010\n",
            "Epoch 14/70\n",
            "36/36 [==============================] - 3s 94ms/step - loss: 0.1648 - accuracy: 0.9551 - val_loss: 0.7479 - val_accuracy: 0.8360 - lr: 0.0010\n",
            "Epoch 15/70\n",
            "36/36 [==============================] - 3s 88ms/step - loss: 0.2211 - accuracy: 0.9219 - val_loss: 0.6572 - val_accuracy: 0.8292 - lr: 0.0010\n",
            "Epoch 16/70\n",
            "36/36 [==============================] - 3s 96ms/step - loss: 0.2584 - accuracy: 0.9213 - val_loss: 0.7143 - val_accuracy: 0.7910 - lr: 0.0010\n",
            "Epoch 17/70\n",
            "36/36 [==============================] - 3s 84ms/step - loss: 0.1378 - accuracy: 0.9652 - val_loss: 0.6562 - val_accuracy: 0.8562 - lr: 0.0010\n",
            "Epoch 18/70\n",
            "36/36 [==============================] - 4s 107ms/step - loss: 0.0874 - accuracy: 0.9758 - val_loss: 0.7064 - val_accuracy: 0.8584 - lr: 0.0010\n",
            "Epoch 19/70\n",
            "36/36 [==============================] - ETA: 0s - loss: 0.0687 - accuracy: 0.9787\n",
            "Epoch 19: ReduceLROnPlateau reducing learning rate to 0.0005000000237487257.\n",
            "36/36 [==============================] - 3s 94ms/step - loss: 0.0687 - accuracy: 0.9787 - val_loss: 0.7569 - val_accuracy: 0.8652 - lr: 0.0010\n",
            "Epoch 20/70\n",
            "36/36 [==============================] - 4s 108ms/step - loss: 0.0663 - accuracy: 0.9781 - val_loss: 0.7395 - val_accuracy: 0.8539 - lr: 5.0000e-04\n",
            "Epoch 21/70\n",
            "36/36 [==============================] - 3s 98ms/step - loss: 0.0522 - accuracy: 0.9854 - val_loss: 0.7402 - val_accuracy: 0.8831 - lr: 5.0000e-04\n",
            "Epoch 22/70\n",
            "36/36 [==============================] - 3s 75ms/step - loss: 0.0475 - accuracy: 0.9865 - val_loss: 0.7799 - val_accuracy: 0.8764 - lr: 5.0000e-04\n",
            "Epoch 23/70\n",
            "36/36 [==============================] - 4s 110ms/step - loss: 0.0530 - accuracy: 0.9820 - val_loss: 0.7616 - val_accuracy: 0.8831 - lr: 5.0000e-04\n",
            "Epoch 24/70\n",
            "36/36 [==============================] - 3s 93ms/step - loss: 0.0433 - accuracy: 0.9854 - val_loss: 0.7827 - val_accuracy: 0.8809 - lr: 5.0000e-04\n",
            "Epoch 25/70\n",
            "36/36 [==============================] - 3s 79ms/step - loss: 0.0394 - accuracy: 0.9865 - val_loss: 0.8046 - val_accuracy: 0.8831 - lr: 5.0000e-04\n",
            "Epoch 26/70\n",
            "36/36 [==============================] - 4s 102ms/step - loss: 0.0472 - accuracy: 0.9837 - val_loss: 0.9769 - val_accuracy: 0.8787 - lr: 5.0000e-04\n",
            "Epoch 27/70\n",
            "36/36 [==============================] - 4s 122ms/step - loss: 0.0400 - accuracy: 0.9916 - val_loss: 0.8640 - val_accuracy: 0.8899 - lr: 5.0000e-04\n",
            "Epoch 28/70\n",
            "36/36 [==============================] - 3s 75ms/step - loss: 0.0731 - accuracy: 0.9843 - val_loss: 0.8259 - val_accuracy: 0.8404 - lr: 5.0000e-04\n",
            "Epoch 29/70\n",
            "36/36 [==============================] - ETA: 0s - loss: 0.0560 - accuracy: 0.9865\n",
            "Epoch 29: ReduceLROnPlateau reducing learning rate to 0.0002500000118743628.\n",
            "36/36 [==============================] - 3s 84ms/step - loss: 0.0560 - accuracy: 0.9865 - val_loss: 0.8460 - val_accuracy: 0.8494 - lr: 5.0000e-04\n",
            "Epoch 30/70\n",
            "36/36 [==============================] - 3s 98ms/step - loss: 0.0466 - accuracy: 0.9831 - val_loss: 0.8083 - val_accuracy: 0.8697 - lr: 2.5000e-04\n",
            "Epoch 31/70\n",
            "36/36 [==============================] - 3s 79ms/step - loss: 0.0430 - accuracy: 0.9865 - val_loss: 0.8109 - val_accuracy: 0.8831 - lr: 2.5000e-04\n",
            "Epoch 32/70\n",
            "36/36 [==============================] - 3s 85ms/step - loss: 0.0358 - accuracy: 0.9871 - val_loss: 0.8317 - val_accuracy: 0.8809 - lr: 2.5000e-04\n",
            "Epoch 33/70\n",
            "36/36 [==============================] - 3s 89ms/step - loss: 0.0347 - accuracy: 0.9921 - val_loss: 0.8742 - val_accuracy: 0.8809 - lr: 2.5000e-04\n",
            "Epoch 34/70\n",
            "36/36 [==============================] - 4s 119ms/step - loss: 0.0382 - accuracy: 0.9871 - val_loss: 0.8705 - val_accuracy: 0.8764 - lr: 2.5000e-04\n",
            "Epoch 35/70\n",
            "36/36 [==============================] - 3s 72ms/step - loss: 0.0353 - accuracy: 0.9888 - val_loss: 0.8720 - val_accuracy: 0.8876 - lr: 2.5000e-04\n",
            "Epoch 36/70\n",
            "36/36 [==============================] - 4s 103ms/step - loss: 0.0325 - accuracy: 0.9871 - val_loss: 0.8772 - val_accuracy: 0.8899 - lr: 2.5000e-04\n",
            "Epoch 37/70\n",
            "36/36 [==============================] - 3s 85ms/step - loss: 0.0311 - accuracy: 0.9916 - val_loss: 0.8942 - val_accuracy: 0.8831 - lr: 2.5000e-04\n",
            "Epoch 38/70\n",
            "36/36 [==============================] - 3s 89ms/step - loss: 0.0203 - accuracy: 0.9961 - val_loss: 0.8755 - val_accuracy: 0.8921 - lr: 2.5000e-04\n",
            "Epoch 39/70\n",
            "36/36 [==============================] - ETA: 0s - loss: 0.0265 - accuracy: 0.9944\n",
            "Epoch 39: ReduceLROnPlateau reducing learning rate to 0.0001250000059371814.\n",
            "36/36 [==============================] - 3s 85ms/step - loss: 0.0265 - accuracy: 0.9944 - val_loss: 0.9742 - val_accuracy: 0.8742 - lr: 2.5000e-04\n",
            "Epoch 40/70\n",
            "36/36 [==============================] - 3s 80ms/step - loss: 0.0322 - accuracy: 0.9904 - val_loss: 0.9018 - val_accuracy: 0.8876 - lr: 1.2500e-04\n",
            "Epoch 41/70\n",
            "36/36 [==============================] - 3s 75ms/step - loss: 0.0351 - accuracy: 0.9882 - val_loss: 0.8861 - val_accuracy: 0.8921 - lr: 1.2500e-04\n",
            "Epoch 42/70\n",
            "36/36 [==============================] - 4s 106ms/step - loss: 0.0331 - accuracy: 0.9899 - val_loss: 0.8891 - val_accuracy: 0.8944 - lr: 1.2500e-04\n",
            "Epoch 43/70\n",
            "36/36 [==============================] - 3s 80ms/step - loss: 0.0301 - accuracy: 0.9916 - val_loss: 0.8983 - val_accuracy: 0.8899 - lr: 1.2500e-04\n",
            "Epoch 44/70\n",
            "36/36 [==============================] - 3s 93ms/step - loss: 0.0326 - accuracy: 0.9876 - val_loss: 0.8973 - val_accuracy: 0.8944 - lr: 1.2500e-04\n",
            "Epoch 45/70\n",
            "36/36 [==============================] - 3s 94ms/step - loss: 0.0320 - accuracy: 0.9893 - val_loss: 0.8957 - val_accuracy: 0.8944 - lr: 1.2500e-04\n",
            "Epoch 46/70\n",
            "36/36 [==============================] - 3s 88ms/step - loss: 0.0252 - accuracy: 0.9916 - val_loss: 0.9071 - val_accuracy: 0.8944 - lr: 1.2500e-04\n",
            "Epoch 47/70\n",
            "36/36 [==============================] - 3s 71ms/step - loss: 0.0281 - accuracy: 0.9921 - val_loss: 0.8988 - val_accuracy: 0.8989 - lr: 1.2500e-04\n",
            "Epoch 48/70\n",
            "36/36 [==============================] - 3s 72ms/step - loss: 0.0237 - accuracy: 0.9921 - val_loss: 0.9042 - val_accuracy: 0.9034 - lr: 1.2500e-04\n",
            "Epoch 49/70\n",
            "36/36 [==============================] - ETA: 0s - loss: 0.0242 - accuracy: 0.9921\n",
            "Epoch 49: ReduceLROnPlateau reducing learning rate to 6.25000029685907e-05.\n",
            "36/36 [==============================] - 3s 82ms/step - loss: 0.0242 - accuracy: 0.9921 - val_loss: 0.9180 - val_accuracy: 0.9034 - lr: 1.2500e-04\n",
            "Epoch 50/70\n",
            "36/36 [==============================] - 3s 90ms/step - loss: 0.0267 - accuracy: 0.9916 - val_loss: 0.9211 - val_accuracy: 0.9034 - lr: 6.2500e-05\n",
            "Epoch 51/70\n",
            "36/36 [==============================] - 3s 86ms/step - loss: 0.0274 - accuracy: 0.9921 - val_loss: 0.9253 - val_accuracy: 0.9011 - lr: 6.2500e-05\n",
            "Epoch 52/70\n",
            "36/36 [==============================] - 3s 72ms/step - loss: 0.0231 - accuracy: 0.9899 - val_loss: 0.9317 - val_accuracy: 0.9011 - lr: 6.2500e-05\n",
            "Epoch 53/70\n",
            "36/36 [==============================] - 3s 94ms/step - loss: 0.0246 - accuracy: 0.9921 - val_loss: 0.9319 - val_accuracy: 0.9034 - lr: 6.2500e-05\n",
            "Epoch 54/70\n",
            "36/36 [==============================] - 3s 81ms/step - loss: 0.0286 - accuracy: 0.9910 - val_loss: 0.9418 - val_accuracy: 0.9011 - lr: 6.2500e-05\n",
            "Epoch 55/70\n",
            "36/36 [==============================] - 4s 99ms/step - loss: 0.0245 - accuracy: 0.9899 - val_loss: 0.9442 - val_accuracy: 0.9034 - lr: 6.2500e-05\n",
            "Epoch 56/70\n",
            "36/36 [==============================] - 3s 91ms/step - loss: 0.0242 - accuracy: 0.9916 - val_loss: 0.9522 - val_accuracy: 0.9011 - lr: 6.2500e-05\n",
            "Epoch 57/70\n",
            "36/36 [==============================] - 3s 93ms/step - loss: 0.0247 - accuracy: 0.9944 - val_loss: 0.9545 - val_accuracy: 0.9011 - lr: 6.2500e-05\n",
            "Epoch 58/70\n",
            "36/36 [==============================] - 3s 77ms/step - loss: 0.0353 - accuracy: 0.9871 - val_loss: 0.9621 - val_accuracy: 0.8966 - lr: 6.2500e-05\n",
            "Epoch 59/70\n",
            "36/36 [==============================] - ETA: 0s - loss: 0.0306 - accuracy: 0.9927\n",
            "Epoch 59: ReduceLROnPlateau reducing learning rate to 3.125000148429535e-05.\n",
            "36/36 [==============================] - 3s 84ms/step - loss: 0.0306 - accuracy: 0.9927 - val_loss: 0.9649 - val_accuracy: 0.8966 - lr: 6.2500e-05\n",
            "Epoch 60/70\n",
            "36/36 [==============================] - 3s 81ms/step - loss: 0.0248 - accuracy: 0.9916 - val_loss: 0.9469 - val_accuracy: 0.8989 - lr: 3.1250e-05\n",
            "Epoch 61/70\n",
            "36/36 [==============================] - 3s 93ms/step - loss: 0.0171 - accuracy: 0.9949 - val_loss: 0.9557 - val_accuracy: 0.8966 - lr: 3.1250e-05\n",
            "Epoch 62/70\n",
            "36/36 [==============================] - 3s 72ms/step - loss: 0.0271 - accuracy: 0.9910 - val_loss: 0.9592 - val_accuracy: 0.8966 - lr: 3.1250e-05\n",
            "Epoch 63/70\n",
            "36/36 [==============================] - 3s 93ms/step - loss: 0.0219 - accuracy: 0.9927 - val_loss: 0.9611 - val_accuracy: 0.8989 - lr: 3.1250e-05\n",
            "Epoch 64/70\n",
            "36/36 [==============================] - 3s 90ms/step - loss: 0.0322 - accuracy: 0.9888 - val_loss: 0.9522 - val_accuracy: 0.9011 - lr: 3.1250e-05\n",
            "Epoch 65/70\n",
            "36/36 [==============================] - 3s 93ms/step - loss: 0.0253 - accuracy: 0.9921 - val_loss: 0.9535 - val_accuracy: 0.9011 - lr: 3.1250e-05\n",
            "Epoch 66/70\n",
            "36/36 [==============================] - 3s 94ms/step - loss: 0.0275 - accuracy: 0.9916 - val_loss: 0.9541 - val_accuracy: 0.9034 - lr: 3.1250e-05\n",
            "Epoch 67/70\n",
            "36/36 [==============================] - 3s 72ms/step - loss: 0.0277 - accuracy: 0.9916 - val_loss: 0.9559 - val_accuracy: 0.9034 - lr: 3.1250e-05\n",
            "Epoch 68/70\n",
            "36/36 [==============================] - 3s 77ms/step - loss: 0.0231 - accuracy: 0.9927 - val_loss: 0.9597 - val_accuracy: 0.9034 - lr: 3.1250e-05\n",
            "Epoch 69/70\n",
            "36/36 [==============================] - ETA: 0s - loss: 0.0237 - accuracy: 0.9933\n",
            "Epoch 69: ReduceLROnPlateau reducing learning rate to 1.5625000742147677e-05.\n",
            "36/36 [==============================] - 3s 95ms/step - loss: 0.0237 - accuracy: 0.9933 - val_loss: 0.9613 - val_accuracy: 0.9034 - lr: 3.1250e-05\n",
            "Epoch 70/70\n",
            "36/36 [==============================] - 3s 77ms/step - loss: 0.0245 - accuracy: 0.9933 - val_loss: 0.9642 - val_accuracy: 0.9011 - lr: 1.5625e-05\n"
          ]
        }
      ]
    },
    {
      "cell_type": "markdown",
      "source": [
        "##9. Graphic\n",
        "\n",
        "To visualize the accuracy history and loss history of my model training, I'll make graphic or plot using matplotlib.pyplot."
      ],
      "metadata": {
        "id": "7i9-AN6YYhTb"
      }
    },
    {
      "cell_type": "code",
      "source": [
        "plt.plot(history.history['accuracy'])\n",
        "plt.plot(history.history['val_accuracy'])\n",
        "plt.title('Akurasi Model')\n",
        "plt.ylabel('accuracy')\n",
        "plt.xlabel('epoch')\n",
        "plt.legend(['train', 'test'], loc='upper left')\n",
        "plt.show()"
      ],
      "metadata": {
        "id": "19ih_rHh2euM",
        "colab": {
          "base_uri": "https://localhost:8080/",
          "height": 472
        },
        "outputId": "aaf7a0bb-252c-44b2-ce75-5e2714fb4ec0"
      },
      "execution_count": null,
      "outputs": [
        {
          "output_type": "display_data",
          "data": {
            "text/plain": [
              "<Figure size 640x480 with 1 Axes>"
            ],
            "image/png": "[encoded data removed]"
          },
          "metadata": {}
        }
      ]
    },
    {
      "cell_type": "code",
      "source": [
        "plt.plot(history.history['loss'])\n",
        "plt.plot(history.history['val_loss'])\n",
        "plt.title('Loss Model')\n",
        "plt.ylabel('loss')\n",
        "plt.xlabel('epoch')\n",
        "plt.legend(['train', 'test'], loc='upper left')\n",
        "plt.show()"
      ],
      "metadata": {
        "id": "dgfuOmu82gTg",
        "colab": {
          "base_uri": "https://localhost:8080/",
          "height": 472
        },
        "outputId": "f43b6815-11df-41cc-e883-b9123b6aa3cd"
      },
      "execution_count": null,
      "outputs": [
        {
          "output_type": "display_data",
          "data": {
            "text/plain": [
              "<Figure size 640x480 with 1 Axes>"
            ],
            "image/png": "[encoded data removed]"
          },
          "metadata": {}
        }
      ]
    }
  ]
}